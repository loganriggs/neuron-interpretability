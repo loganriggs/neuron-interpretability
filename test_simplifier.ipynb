{
 "cells": [
  {
   "cell_type": "code",
   "execution_count": 6,
   "metadata": {},
   "outputs": [
    {
     "name": "stderr",
     "output_type": "stream",
     "text": [
      "Using pad_token, but it is not set yet.\n"
     ]
    },
    {
     "name": "stdout",
     "output_type": "stream",
     "text": [
      "Loaded pretrained model EleutherAI/pythia-70m-deduped into HookedTransformer\n"
     ]
    }
   ],
   "source": [
    "from transformer_lens import HookedTransformer\n",
    "from neuron_text_simplifier import NeuronTextSimplifier\n",
    "import torch as th\n",
    "\n",
    "device = \"cuda:2\" if th.cuda.is_available() else \"cpu\"\n",
    "# device = \"cpu\"\n",
    "model_name = \"EleutherAI/pythia-70m-deduped\"\n",
    "model = HookedTransformer.from_pretrained(model_name, device=device)\n",
    "layer = 1\n",
    "neuron = 924\n",
    "simplifier = NeuronTextSimplifier(model, layer, neuron)"
   ]
  },
  {
   "cell_type": "code",
   "execution_count": 7,
   "metadata": {},
   "outputs": [
    {
     "name": "stdout",
     "output_type": "stream",
     "text": [
      "Starting diverse output 0\n",
      "Inserting Category at pos 1: ['物', 'Category']\n",
      "New largest activation: 2.512476921081543 | ['物Category']\n",
      "New largest activation: 2.9355921745300293 | ['warmCategory']\n",
      "New largest activation: 3.2533440589904785 | ['eastCategory']\n",
      "New largest activation: 3.5023040771484375 | [' jackCategory']\n",
      "Starting diverse output 1\n",
      "New largest activation: 2.614311695098877 | [' mitigateCategory']\n",
      "New largest activation: 2.693183422088623 | ['ZCategory']\n",
      "New largest activation: 2.770057201385498 | [' ShCategory']\n",
      "New largest activation: 2.7964000701904297 | [' prestCategory']\n",
      "New largest activation: 2.9041643142700195 | [' explanCategory']\n",
      "New largest activation: 3.072929859161377 | ['#.Category']\n",
      "New largest activation: 3.14021635055542 | [' eastCategory']\n",
      "New largest activation: 3.4664688110351562 | [' exitingCategory']\n",
      "New largest activation: 4.469742774963379 | ['QCategory']\n",
      "Starting diverse output 2\n",
      "New largest activation: 1.8695975542068481 | [' admireCategory']\n",
      "New largest activation: 2.377237319946289 | [' frostCategory']\n",
      "New largest activation: 2.9002480506896973 | [' DegCategory']\n",
      "New largest activation: 3.7418575286865234 | ['PrefabCategory']\n",
      "New largest activation: 4.469742774963379 | ['QCategory']\n",
      "Starting diverse output 3\n",
      "New largest activation: 2.2627291679382324 | [' stretchesCategory']\n",
      "New largest activation: 4.029946804046631 | ['OriginalCategory']\n",
      "New largest activation: 4.469742774963379 | ['QCategory']\n",
      "Starting diverse output 4\n",
      "New largest activation: 2.361107349395752 | [' cranCategory']\n",
      "New largest activation: 2.821852684020996 | [' CaveCategory']\n",
      "New largest activation: 2.8414087295532227 | ['_.\"Category']\n",
      "New largest activation: 2.901526927947998 | [' caveCategory']\n",
      "New largest activation: 3.396141529083252 | [' trailingCategory']\n",
      "New largest activation: 4.469742774963379 | ['QCategory']\n",
      "Starting diverse output 5\n",
      "New largest activation: 2.9948678016662598 | [' nestsCategory']\n",
      "New largest activation: 4.469742774963379 | ['QCategory']\n",
      "Starting diverse output 6\n",
      "New largest activation: 3.0733041763305664 | [' pretreatedCategory']\n",
      "New largest activation: 4.469742774963379 | ['QCategory']\n",
      "Starting diverse output 7\n",
      "New largest activation: 1.050263524055481 | [' mildlyCategory']\n",
      "New largest activation: 2.756588935852051 | ['atoriesCategory']\n",
      "New largest activation: 3.0993447303771973 | ['brownCategory']\n",
      "New largest activation: 3.483780860900879 | [' ColdCategory']\n",
      "New largest activation: 4.469742774963379 | ['QCategory']\n",
      "Starting diverse output 8\n",
      "New largest activation: 2.8610711097717285 | [' hydrationCategory']\n",
      "New largest activation: 3.605074882507324 | ['HKCategory']\n",
      "New largest activation: 3.9281272888183594 | [' bumpsCategory']\n",
      "New largest activation: 4.469742774963379 | ['QCategory']\n",
      "Starting diverse output 9\n",
      "New largest activation: 0.009594738483428955 | [' wisdomCategory']\n",
      "New largest activation: 3.6011672019958496 | ['uateCategory']\n",
      "New largest activation: 4.469742774963379 | ['QCategory']\n"
     ]
    },
    {
     "data": {
      "text/plain": [
       "[[' jackCategory'],\n",
       " ['QCategory'],\n",
       " ['QCategory'],\n",
       " ['QCategory'],\n",
       " ['QCategory'],\n",
       " ['QCategory'],\n",
       " ['QCategory'],\n",
       " ['QCategory'],\n",
       " ['QCategory'],\n",
       " ['QCategory']]"
      ]
     },
     "execution_count": 7,
     "metadata": {},
     "output_type": "execute_result"
    }
   ],
   "source": [
    "simplifier.prompt_optimization(seq_size=1, insert_words_and_pos=[\"Category\", -1])"
   ]
  },
  {
   "cell_type": "code",
   "execution_count": 2,
   "metadata": {},
   "outputs": [
    {
     "data": {
      "text/html": [
       "<div id=\"circuits-vis-f9f9ba78-abed\" style=\"margin: 15px 0;\"/>\n",
       "    <script crossorigin type=\"module\">\n",
       "    import { render, TextNeuronActivations } from \"https://unpkg.com/circuitsvis@1.39.1/dist/cdn/esm.js\";\n",
       "    render(\n",
       "      \"circuits-vis-f9f9ba78-abed\",\n",
       "      TextNeuronActivations,\n",
       "      {\"tokens\": [\"#\", \"\\\"\", \"\\n\", \"!\", \"\\\"\", \"\\n\"], \"activations\": [[[-2.6470651626586914]], [[-2.375549793243408]], [[0.0]], [[-1.508016586303711]], [[-1.7044620513916016]], [[0.0]]], \"firstDimensionName\": \"Layer\", \"secondDimensionName\": \"Neuron\"}\n",
       "    )\n",
       "    </script>"
      ],
      "text/plain": [
       "<circuitsvis.utils.render.RenderedHTML at 0x7f1fe9374070>"
      ]
     },
     "execution_count": 2,
     "metadata": {},
     "output_type": "execute_result"
    }
   ],
   "source": [
    "# simplifier.text_to_visualize([\"The quick brown fox jumped over the lazy dog.\", \"yo dog\"])\n",
    "a = th.tensor([[4,3],[2,3]])\n",
    "\n",
    "simplifier.text_to_visualize(a)"
   ]
  },
  {
   "cell_type": "code",
   "execution_count": 31,
   "metadata": {},
   "outputs": [
    {
     "name": "stdout",
     "output_type": "stream",
     "text": [
      "tensor([4, 3])\n",
      "tensor([2, 3])\n"
     ]
    }
   ],
   "source": [
    "for ti in a:\n",
    "    print(ti)"
   ]
  },
  {
   "cell_type": "code",
   "execution_count": 3,
   "metadata": {},
   "outputs": [
    {
     "ename": "AttributeError",
     "evalue": "'HookedTransformer' object has no attribute 'device'",
     "output_type": "error",
     "traceback": [
      "\u001b[0;31m---------------------------------------------------------------------------\u001b[0m",
      "\u001b[0;31mAttributeError\u001b[0m                            Traceback (most recent call last)",
      "Cell \u001b[0;32mIn[3], line 14\u001b[0m\n\u001b[1;32m     12\u001b[0m         token \u001b[39m=\u001b[39m simplifier\u001b[39m.\u001b[39mmodel\u001b[39m.\u001b[39mto_tokens(t, prepend_bos\u001b[39m=\u001b[39m\u001b[39mFalse\u001b[39;00m)\n\u001b[1;32m     13\u001b[0m     text_list \u001b[39m+\u001b[39m\u001b[39m=\u001b[39m [x\u001b[39m.\u001b[39mreplace(\u001b[39m'\u001b[39m\u001b[39m\\n\u001b[39;00m\u001b[39m'\u001b[39m, \u001b[39m'\u001b[39m\u001b[39m\\\\\u001b[39;00m\u001b[39mnewline\u001b[39m\u001b[39m'\u001b[39m) \u001b[39mfor\u001b[39;00m x \u001b[39min\u001b[39;00m split_text] \u001b[39m+\u001b[39m [\u001b[39m\"\u001b[39m\u001b[39m\\n\u001b[39;00m\u001b[39m\"\u001b[39m]\n\u001b[0;32m---> 14\u001b[0m     act_list\u001b[39m+\u001b[39m\u001b[39m=\u001b[39m simplifier\u001b[39m.\u001b[39;49mget_neuron_activation(token) \u001b[39m+\u001b[39m [\u001b[39m0.0\u001b[39m]\n\u001b[1;32m     15\u001b[0m act_list \u001b[39m=\u001b[39m th\u001b[39m.\u001b[39mtensor(act_list)\u001b[39m.\u001b[39mreshape(\u001b[39m-\u001b[39m\u001b[39m1\u001b[39m,\u001b[39m1\u001b[39m,\u001b[39m1\u001b[39m)\n\u001b[1;32m     16\u001b[0m text_neuron_activations(tokens\u001b[39m=\u001b[39mtext_list, activations\u001b[39m=\u001b[39mact_list)\n",
      "File \u001b[0;32m/mnt/ssd-1/logan/neuron-interpretability/neuron_text_simplifier.py:27\u001b[0m, in \u001b[0;36mNeuronTextSimplifier.get_neuron_activation\u001b[0;34m(self, tokens)\u001b[0m\n\u001b[1;32m     26\u001b[0m \u001b[39mdef\u001b[39;00m \u001b[39mget_neuron_activation\u001b[39m(\u001b[39mself\u001b[39m, tokens):\n\u001b[0;32m---> 27\u001b[0m     _, cache \u001b[39m=\u001b[39m \u001b[39mself\u001b[39m\u001b[39m.\u001b[39mmodel\u001b[39m.\u001b[39mrun_with_cache(tokens\u001b[39m.\u001b[39mto(\u001b[39mself\u001b[39;49m\u001b[39m.\u001b[39;49mmodel\u001b[39m.\u001b[39;49mdevice))\n\u001b[1;32m     28\u001b[0m     \u001b[39mreturn\u001b[39;00m cache[\u001b[39mf\u001b[39m\u001b[39m\"\u001b[39m\u001b[39mblocks.\u001b[39m\u001b[39m{\u001b[39;00m\u001b[39mself\u001b[39m\u001b[39m.\u001b[39mlayer\u001b[39m}\u001b[39;00m\u001b[39m.mlp.hook_pre\u001b[39m\u001b[39m\"\u001b[39m][\u001b[39m0\u001b[39m,:,\u001b[39mself\u001b[39m\u001b[39m.\u001b[39mneuron]\u001b[39m.\u001b[39mtolist()\n",
      "File \u001b[0;32m~/miniconda3/envs/logan/lib/python3.10/site-packages/torch/nn/modules/module.py:1269\u001b[0m, in \u001b[0;36mModule.__getattr__\u001b[0;34m(self, name)\u001b[0m\n\u001b[1;32m   1267\u001b[0m     \u001b[39mif\u001b[39;00m name \u001b[39min\u001b[39;00m modules:\n\u001b[1;32m   1268\u001b[0m         \u001b[39mreturn\u001b[39;00m modules[name]\n\u001b[0;32m-> 1269\u001b[0m \u001b[39mraise\u001b[39;00m \u001b[39mAttributeError\u001b[39;00m(\u001b[39m\"\u001b[39m\u001b[39m'\u001b[39m\u001b[39m{}\u001b[39;00m\u001b[39m'\u001b[39m\u001b[39m object has no attribute \u001b[39m\u001b[39m'\u001b[39m\u001b[39m{}\u001b[39;00m\u001b[39m'\u001b[39m\u001b[39m\"\u001b[39m\u001b[39m.\u001b[39mformat(\n\u001b[1;32m   1270\u001b[0m     \u001b[39mtype\u001b[39m(\u001b[39mself\u001b[39m)\u001b[39m.\u001b[39m\u001b[39m__name__\u001b[39m, name))\n",
      "\u001b[0;31mAttributeError\u001b[0m: 'HookedTransformer' object has no attribute 'device'"
     ]
    }
   ],
   "source": [
    "text = \"The quick brown fox jumped over the lazy dog.\"\n",
    "if isinstance(text, str):\n",
    "    text = [text]\n",
    "text_list = []\n",
    "act_list = []\n",
    "for t in text:\n",
    "    if isinstance(t, int): # If the text is a list of tokens\n",
    "        token = text\n",
    "        split_text = simplifier.model.to_str_tokens(text, prepend_bos=False)\n",
    "    else:\n",
    "        split_text = simplifier.model.to_str_tokens(t, prepend_bos=False)\n",
    "        token = simplifier.model.to_tokens(t, prepend_bos=False)\n",
    "    text_list += [x.replace('\\n', '\\\\newline') for x in split_text] + [\"\\n\"]\n",
    "    act_list+= simplifier.get_neuron_activation(token) + [0.0]\n",
    "act_list = th.tensor(act_list).reshape(-1,1,1)\n",
    "text_neuron_activations(tokens=text_list, activations=act_list)"
   ]
  },
  {
   "cell_type": "code",
   "execution_count": 6,
   "metadata": {},
   "outputs": [
    {
     "data": {
      "text/plain": [
       "'cuda'"
      ]
     },
     "execution_count": 6,
     "metadata": {},
     "output_type": "execute_result"
    }
   ],
   "source": [
    "simplifier.model.cfg.device"
   ]
  }
 ],
 "metadata": {
  "kernelspec": {
   "display_name": "logan",
   "language": "python",
   "name": "python3"
  },
  "language_info": {
   "codemirror_mode": {
    "name": "ipython",
    "version": 3
   },
   "file_extension": ".py",
   "mimetype": "text/x-python",
   "name": "python",
   "nbconvert_exporter": "python",
   "pygments_lexer": "ipython3",
   "version": "3.10.9"
  },
  "orig_nbformat": 4
 },
 "nbformat": 4,
 "nbformat_minor": 2
}
