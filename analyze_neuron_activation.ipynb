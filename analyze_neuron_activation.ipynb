{
 "cells": [
  {
   "cell_type": "code",
   "execution_count": 1,
   "metadata": {},
   "outputs": [
    {
     "name": "stderr",
     "output_type": "stream",
     "text": [
      "c:\\Users\\logan\\miniconda3\\envs\\max\\lib\\site-packages\\tqdm\\auto.py:22: TqdmWarning: IProgress not found. Please update jupyter and ipywidgets. See https://ipywidgets.readthedocs.io/en/stable/user_install.html\n",
      "  from .autonotebook import tqdm as notebook_tqdm\n"
     ]
    }
   ],
   "source": [
    "import torch as th\n",
    "layer = 6\n",
    "# Download the dataset\n",
    "neuron_activations = th.load(f\"Data/activations_layer_{layer}.pt\")"
   ]
  },
  {
   "cell_type": "code",
   "execution_count": 2,
   "metadata": {},
   "outputs": [],
   "source": [
    "seq = 20\n",
    "dataset_by_seq, neurons = neuron_activations.shape\n",
    "dataset_size = dataset_by_seq//seq"
   ]
  },
  {
   "cell_type": "code",
   "execution_count": 13,
   "metadata": {},
   "outputs": [
    {
     "data": {
      "text/plain": [
       "(9521, 15, 493)"
      ]
     },
     "execution_count": 13,
     "metadata": {},
     "output_type": "execute_result"
    }
   ],
   "source": [
    "import numpy as np\n",
    "np.unravel_index(neuron_activations.argmax(), (dataset_size, seq, neurons))"
   ]
  },
  {
   "cell_type": "code",
   "execution_count": 10,
   "metadata": {},
   "outputs": [
    {
     "name": "stdout",
     "output_type": "stream",
     "text": [
      "Position 0: Mean: -0.499051034450531, Min: -6.071619033813477, Max: 4.830296993255615\n",
      "Position 1: Mean: -0.4859250485897064, Min: -7.159372806549072, Max: 5.430814266204834\n",
      "Position 2: Mean: -0.49540963768959045, Min: -7.661962509155273, Max: 4.762789249420166\n",
      "Position 3: Mean: -0.5272964835166931, Min: -7.525088310241699, Max: 4.764954566955566\n",
      "Position 4: Mean: -0.4959178864955902, Min: -6.7089104652404785, Max: 4.307471752166748\n",
      "Position 5: Mean: -0.48519620299339294, Min: -8.718271255493164, Max: 5.639570236206055\n",
      "Position 6: Mean: -0.4954654574394226, Min: -7.679287910461426, Max: 5.277312278747559\n",
      "Position 7: Mean: -0.5246610641479492, Min: -8.152499198913574, Max: 4.668896675109863\n",
      "Position 8: Mean: -0.49278998374938965, Min: -6.23680305480957, Max: 4.238410949707031\n",
      "Position 9: Mean: -0.48235782980918884, Min: -6.74600887298584, Max: 5.523262977600098\n",
      "Position 10: Mean: -0.4952610731124878, Min: -6.721911430358887, Max: 4.31566047668457\n",
      "Position 11: Mean: -0.5286012887954712, Min: -7.263924598693848, Max: 4.868997573852539\n",
      "Position 12: Mean: -0.4976003170013428, Min: -6.564182281494141, Max: 4.662425994873047\n",
      "Position 13: Mean: -0.4783032238483429, Min: -6.58997917175293, Max: 6.033268928527832\n",
      "Position 14: Mean: -0.49784186482429504, Min: -7.522158622741699, Max: 4.572502136230469\n",
      "Position 15: Mean: -0.5258695483207703, Min: -7.605859756469727, Max: 5.0360260009765625\n",
      "Position 16: Mean: -0.49185100197792053, Min: -6.400604724884033, Max: 4.4084930419921875\n",
      "Position 17: Mean: -0.48193034529685974, Min: -6.883902072906494, Max: 5.927703857421875\n",
      "Position 18: Mean: -0.49786239862442017, Min: -7.566403388977051, Max: 4.279183387756348\n",
      "Position 19: Mean: -0.5248119235038757, Min: -7.940320014953613, Max: 4.7036542892456055\n"
     ]
    }
   ],
   "source": [
    "# Get the average, min and max activations for every position in sequence\n",
    "for x in range(seq):\n",
    "    mean = neuron_activations.flatten()[x::seq].mean()\n",
    "    min = neuron_activations.flatten()[x::seq].min()\n",
    "    max = neuron_activations.flatten()[x::seq].max()\n",
    "    print(f\"Position {x}: Mean: {mean}, Min: {min}, Max: {max}\")"
   ]
  },
  {
   "cell_type": "code",
   "execution_count": null,
   "metadata": {},
   "outputs": [],
   "source": []
  }
 ],
 "metadata": {
  "kernelspec": {
   "display_name": "max",
   "language": "python",
   "name": "python3"
  },
  "language_info": {
   "codemirror_mode": {
    "name": "ipython",
    "version": 3
   },
   "file_extension": ".py",
   "mimetype": "text/x-python",
   "name": "python",
   "nbconvert_exporter": "python",
   "pygments_lexer": "ipython3",
   "version": "3.10.9"
  },
  "orig_nbformat": 4,
  "vscode": {
   "interpreter": {
    "hash": "94f643171f386ff22d52257101c4dac4d2d863738d90bca2a200bbe9f551387a"
   }
  }
 },
 "nbformat": 4,
 "nbformat_minor": 2
}
