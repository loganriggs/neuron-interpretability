{
 "cells": [
  {
   "cell_type": "code",
   "execution_count": 1,
   "metadata": {},
   "outputs": [
    {
     "name": "stderr",
     "output_type": "stream",
     "text": [
      "c:\\Users\\logan\\miniconda3\\envs\\max\\lib\\site-packages\\tqdm\\auto.py:22: TqdmWarning: IProgress not found. Please update jupyter and ipywidgets. See https://ipywidgets.readthedocs.io/en/stable/user_install.html\n",
      "  from .autonotebook import tqdm as notebook_tqdm\n",
      "Using pad_token, but it is not set yet.\n"
     ]
    },
    {
     "name": "stdout",
     "output_type": "stream",
     "text": [
      "Loaded pretrained model EleutherAI/pythia-160m-deduped into HookedTransformer\n"
     ]
    }
   ],
   "source": [
    "# # Enable python import reloading\n",
    "# %load_ext autoreload\n",
    "# %autoreload 2\n",
    "\n",
    "# # Imports\n",
    "# import numpy as np\n",
    "from transformer_lens import HookedTransformer\n",
    "import torch as th\n",
    "from neuron_text_simplifier import NeuronTextSimplifier\n",
    "\n",
    "device = th.device(\"cuda\" if th.cuda.is_available() else \"cpu\")\n",
    "model = HookedTransformer.from_pretrained(\"EleutherAI/pythia-160m-deduped\", device=device)\n",
    "model.eval()\n",
    "\n",
    "simplifier = NeuronTextSimplifier(model, 6, 3071)\n",
    "text = \"The quick brown fox jumps over the lazy dog\""
   ]
  },
  {
   "cell_type": "code",
   "execution_count": 5,
   "metadata": {},
   "outputs": [
    {
     "data": {
      "text/html": [
       "<div id=\"circuits-vis-4061be2c-b2a0\" style=\"margin: 15px 0;\"/>\n",
       "    <script crossorigin type=\"module\">\n",
       "    import { render, TextNeuronActivations } from \"https://unpkg.com/circuitsvis@1.39.1/dist/cdn/esm.js\";\n",
       "    render(\n",
       "      \"circuits-vis-4061be2c-b2a0\",\n",
       "      TextNeuronActivations,\n",
       "      {\"tokens\": [[\"a\", \" b\", \" c\", \"\\n\", \"a\", \" c\", \"\\n\", \"a\", \"\\n\"], [\"1\", \" 2\", \"\\n\", \"1\", \"\\n\"], [\" the\", \"\\n\"]], \"activations\": [[[[0.2871202826499939]], [[-0.7830946445465088]], [[-0.7686591148376465]], [[0.0]], [[0.2871202826499939]], [[-0.42441225051879883]], [[0.0]], [[0.2871200442314148]], [[0.0]]], [[[0.3099595606327057]], [[-0.375026673078537]], [[0.0]], [[0.3099594712257385]], [[0.0]]], [[[0.24494963884353638]], [[0.0]]]], \"firstDimensionName\": \"Layer\", \"secondDimensionName\": \"Neuron\"}\n",
       "    )\n",
       "    </script>"
      ],
      "text/plain": [
       "<circuitsvis.utils.render.RenderedHTML at 0x29f0aae3550>"
      ]
     },
     "execution_count": 5,
     "metadata": {},
     "output_type": "execute_result"
    }
   ],
   "source": [
    "input_text_list = [\"a b c\", \"1 2\", \" the\"]\n",
    "simplifier.multi_visualize_text_color_iteratively(input_text_list)"
   ]
  },
  {
   "cell_type": "code",
   "execution_count": 3,
   "metadata": {},
   "outputs": [
    {
     "data": {
      "text/html": [
       "<div id=\"circuits-vis-f347d914-8dd3\" style=\"margin: 15px 0;\"/>\n",
       "    <script crossorigin type=\"module\">\n",
       "    import { render, TextNeuronActivations } from \"https://unpkg.com/circuitsvis@1.39.1/dist/cdn/esm.js\";\n",
       "    render(\n",
       "      \"circuits-vis-f347d914-8dd3\",\n",
       "      TextNeuronActivations,\n",
       "      {\"tokens\": [\"The\", \" quick\", \" brown\", \" fox\", \" jumps\", \" over\", \" the\", \" lazy\", \" dog\"], \"activations\": [[[-1.409999966621399]], [[-1.0]], [[-0.14000000059604645]], [[-0.44999998807907104]], [[-0.4000000059604645]], [[-1.159999966621399]], [[-2.4100000858306885]], [[0.4399999976158142]], [[-0.8100000023841858]]], \"firstDimensionName\": \"Layer\", \"secondDimensionName\": \"Neuron\"}\n",
       "    )\n",
       "    </script>"
      ],
      "text/plain": [
       "<circuitsvis.utils.render.RenderedHTML at 0x1adea0b0910>"
      ]
     },
     "execution_count": 3,
     "metadata": {},
     "output_type": "execute_result"
    }
   ],
   "source": [
    "from circuitsvis.activations import text_neuron_activations\n",
    "split_text = model.to_str_tokens(text, prepend_bos=False)\n",
    "tokens = simplifier.model.to_tokens(text, prepend_bos=False)\n",
    "act = simplifier.get_neuron_activation(tokens)\n",
    "act = th.tensor([round(a,2) for a in act]).unsqueeze(-1).unsqueeze(-1)\n",
    "text_neuron_activations(tokens=split_text, activations=act)"
   ]
  },
  {
   "cell_type": "code",
   "execution_count": 13,
   "metadata": {},
   "outputs": [
    {
     "data": {
      "text/html": [
       "<div id=\"circuits-vis-416658b6-2a85\" style=\"margin: 15px 0;\"/>\n",
       "    <script crossorigin type=\"module\">\n",
       "    import { render, TextNeuronActivations } from \"https://unpkg.com/circuitsvis@1.39.1/dist/cdn/esm.js\";\n",
       "    render(\n",
       "      \"circuits-vis-416658b6-2a85\",\n",
       "      TextNeuronActivations,\n",
       "      {\"tokens\": [\"Hi\", \" and\", \" welcome\", \" to\", \" the\", \" Attention\", \" Patterns\", \" example\"], \"activations\": [[[0.05092485478532465]], [[0.10848911097799513]], [[0.18937063367076884]], [[0.0642635673072281]], [[0.08262908236774458]], [[0.38073488881205336]], [[0.05311280502157848]], [[0.07047505705730678]]], \"firstDimensionName\": \"Layer\", \"secondDimensionName\": \"Neuron\"}\n",
       "    )\n",
       "    </script>"
      ],
      "text/plain": [
       "<circuitsvis.utils.render.RenderedHTML at 0x1fc0098d9f0>"
      ]
     },
     "execution_count": 13,
     "metadata": {},
     "output_type": "execute_result"
    }
   ],
   "source": [
    "import numpy as np\n",
    "tokens = ['Hi', ' and', ' welcome', ' to', ' the', ' Attention', ' Patterns', ' example']\n",
    "n_layers = 1\n",
    "n_neurons_per_layer = 1\n",
    "activations = np.random.normal(size=(len(tokens), n_layers, n_neurons_per_layer))\n",
    "activations = np.exp(activations) / np.exp(activations).sum(axis=0, keepdims=True) \n",
    "text_neuron_activations(tokens=tokens, activations=activations)"
   ]
  },
  {
   "cell_type": "code",
   "execution_count": 21,
   "metadata": {},
   "outputs": [
    {
     "name": "stdout",
     "output_type": "stream",
     "text": [
      " The [0.26] quick [-0.83] brown [-0.09] fox [-0.22] jumps [-0.37] over [-1.03] lazy [-0.65] dog [0.27]\n",
      " The [0.26] quick [-0.83] brown [-0.09] fox [-0.22] jumps [-0.37] over [-1.03] dog [0.51]\n",
      " The [0.26] quick [-0.83] brown [-0.09] fox [-0.22] over [-0.29] dog [0.53]\n",
      " The [0.26] quick [-0.83] fox [0.05] over [-0.15] dog [0.56]\n",
      " The [0.26] fox [0.27] over [0.19] dog [0.54]\n",
      " fox [0.32] over [-0.11] dog [0.43]\n",
      " fox [0.32] dog [0.25]\n",
      " fox [0.32]\n"
     ]
    }
   ],
   "source": [
    "simplifier = NeuronTextSimplifier(model, 6, 3071)\n",
    "\n",
    "text = \" The quick brown fox jumps over the lazy dog\"\n",
    "# Iteratively remove text that has smallest decrease in activation\n",
    "# Print out the change in activation for the largest changes, ie if the change is larger than threshold*original_activation\n",
    "tokens = simplifier.model.to_tokens(text, prepend_bos=False)[0]\n",
    "original_activation = th.tensor(simplifier.get_neuron_activation(tokens))\n",
    "text_list = []\n",
    "text_list.append(simplifier.model.to_str_tokens(text, prepend_bos=False))\n",
    "act_list = []\n",
    "act_list.append(original_activation.reshape(-1,1,1))\n",
    "changes = th.zeros(tokens.shape[-1])+100\n",
    "for j in range(len(tokens)-1):\n",
    "    for i in range(len(tokens)):\n",
    "        changes[i] = simplifier.get_neuron_activation(th.cat((tokens[:i],tokens[i+1:])))[-1]\n",
    "    max_ind = changes.argmax()\n",
    "    changes = th.cat((changes[:max_ind], changes[max_ind+1:]))\n",
    "    tokens = th.cat((tokens[:max_ind],tokens[max_ind+1:]))\n",
    "    out_text = simplifier.model.to_string(tokens)\n",
    "    text_list.append(simplifier.model.to_str_tokens(out_text, prepend_bos=False))\n",
    "    act_list.append(th.tensor(simplifier.get_neuron_activation(tokens)).reshape(-1,1,1))\n",
    "    print(simplifier.text_to_activations_print(out_text))\n",
    "j = text_neuron_activations(tokens=text_list, activations=act_list)"
   ]
  },
  {
   "cell_type": "code",
   "execution_count": 46,
   "metadata": {},
   "outputs": [
    {
     "data": {
      "text/html": [
       "<div id=\"circuits-vis-8b8805d7-14db\" style=\"margin: 15px 0;\"/>\n",
       "    <script crossorigin type=\"module\">\n",
       "    import { render, TextNeuronActivations } from \"https://unpkg.com/circuitsvis@1.39.1/dist/cdn/esm.js\";\n",
       "    render(\n",
       "      \"circuits-vis-8b8805d7-14db\",\n",
       "      TextNeuronActivations,\n",
       "      {\"tokens\": [\" a\", \" b\", \" c\", \"\\n\", \" a\", \" c\", \"\\n\", \" c\", \"\\n\"], \"activations\": [[[0.2519269585609436]], [[-0.3919440805912018]], [[-0.8255556225776672]], [[0.0]], [[0.2519269585609436]], [[-0.14002379775047302]], [[0.0]], [[0.2808685600757599]], [[0.0]]], \"firstDimensionName\": \"Layer\", \"secondDimensionName\": \"Neuron\"}\n",
       "    )\n",
       "    </script>"
      ],
      "text/plain": [
       "<circuitsvis.utils.render.RenderedHTML at 0x1ad856352d0>"
      ]
     },
     "execution_count": 46,
     "metadata": {},
     "output_type": "execute_result"
    }
   ],
   "source": [
    "simplifier = NeuronTextSimplifier(model, 6, 3071)\n",
    "\n",
    "text = \" a b c\"\n",
    "# Iteratively remove text that has smallest decrease in activation\n",
    "# Print out the change in activation for the largest changes, ie if the change is larger than threshold*original_activation\n",
    "tokens = simplifier.model.to_tokens(text, prepend_bos=False)[0]\n",
    "original_activation = simplifier.get_neuron_activation(tokens)\n",
    "text_list = simplifier.model.to_str_tokens(text, prepend_bos=False) + [\"\\n\"]\n",
    "act_list = original_activation + [0.0]\n",
    "changes = th.zeros(tokens.shape[-1])+100\n",
    "for j in range(len(tokens)-1):\n",
    "    for i in range(len(tokens)):\n",
    "        changes[i] = simplifier.get_neuron_activation(th.cat((tokens[:i],tokens[i+1:])))[-1]\n",
    "    max_ind = changes.argmax()\n",
    "    changes = th.cat((changes[:max_ind], changes[max_ind+1:]))\n",
    "    tokens = th.cat((tokens[:max_ind],tokens[max_ind+1:]))\n",
    "    out_text = simplifier.model.to_string(tokens)\n",
    "    text_list += simplifier.model.to_str_tokens(out_text, prepend_bos=False) + [\"\\n\"]\n",
    "    act_list += simplifier.get_neuron_activation(tokens) + [0.0]\n",
    "text_list = text_list\n",
    "act_list = th.tensor(act_list).reshape(-1,1,1)\n",
    "return text_neuron_activations(tokens=text_list, activations=act_list)"
   ]
  },
  {
   "cell_type": "code",
   "execution_count": 2,
   "metadata": {},
   "outputs": [
    {
     "ename": "AttributeError",
     "evalue": "'float' object has no attribute 'ndim'",
     "output_type": "error",
     "traceback": [
      "\u001b[1;31m---------------------------------------------------------------------------\u001b[0m",
      "\u001b[1;31mAttributeError\u001b[0m                            Traceback (most recent call last)",
      "Cell \u001b[1;32mIn[2], line 28\u001b[0m\n\u001b[0;32m      3\u001b[0m input_text_list \u001b[39m=\u001b[39m [\u001b[39m\"\u001b[39m\u001b[39ma b c\u001b[39m\u001b[39m\"\u001b[39m, \u001b[39m\"\u001b[39m\u001b[39m1 2\u001b[39m\u001b[39m\"\u001b[39m, \u001b[39m\"\u001b[39m\u001b[39m the\u001b[39m\u001b[39m\"\u001b[39m]\n\u001b[0;32m      5\u001b[0m \u001b[39m# text_list_final = []\u001b[39;00m\n\u001b[0;32m      6\u001b[0m \u001b[39m# act_list_final = []\u001b[39;00m\n\u001b[0;32m      7\u001b[0m \u001b[39m# for text in input_text_list:\u001b[39;00m\n\u001b[1;32m   (...)\u001b[0m\n\u001b[0;32m     25\u001b[0m \u001b[39m#     act_list_final.append(act_list)\u001b[39;00m\n\u001b[0;32m     26\u001b[0m \u001b[39m# text_neuron_activations(tokens=text_list_final, activations=act_list_final)\u001b[39;00m\n\u001b[1;32m---> 28\u001b[0m simplifier\u001b[39m.\u001b[39;49mtext_to_visualize(\u001b[39m\"\u001b[39;49m\u001b[39ma b c\u001b[39;49m\u001b[39m\"\u001b[39;49m)\n",
      "File \u001b[1;32mc:\\Users\\logan\\Documents\\GitHub\\neuron_maximization\\neuron_text_simplifier.py:31\u001b[0m, in \u001b[0;36mNeuronTextSimplifier.text_to_visualize\u001b[1;34m(self, text)\u001b[0m\n\u001b[0;32m     29\u001b[0m token \u001b[39m=\u001b[39m \u001b[39mself\u001b[39m\u001b[39m.\u001b[39mmodel\u001b[39m.\u001b[39mto_tokens(text, prepend_bos\u001b[39m=\u001b[39m\u001b[39mFalse\u001b[39;00m)\n\u001b[0;32m     30\u001b[0m act \u001b[39m=\u001b[39m \u001b[39mself\u001b[39m\u001b[39m.\u001b[39mget_neuron_activation(token)\n\u001b[1;32m---> 31\u001b[0m \u001b[39mreturn\u001b[39;00m text_neuron_activations(tokens\u001b[39m=\u001b[39;49msplit_text, activations\u001b[39m=\u001b[39;49mact)\n",
      "File \u001b[1;32mc:\\Users\\logan\\miniconda3\\envs\\max\\lib\\site-packages\\circuitsvis\\activations.py:41\u001b[0m, in \u001b[0;36mtext_neuron_activations\u001b[1;34m(tokens, activations, first_dimension_name, second_dimension_name, first_dimension_labels, second_dimension_labels)\u001b[0m\n\u001b[0;32m     38\u001b[0m     activations_list \u001b[39m=\u001b[39m []\n\u001b[0;32m     39\u001b[0m     \u001b[39mfor\u001b[39;00m act \u001b[39min\u001b[39;00m activations:\n\u001b[0;32m     40\u001b[0m         \u001b[39massert\u001b[39;00m (\n\u001b[1;32m---> 41\u001b[0m             act\u001b[39m.\u001b[39;49mndim \u001b[39m==\u001b[39m \u001b[39m3\u001b[39m\n\u001b[0;32m     42\u001b[0m         ), \u001b[39m\"\u001b[39m\u001b[39mactivations must be of shape [tokens x layers x neurons]\u001b[39m\u001b[39m\"\u001b[39m\n\u001b[0;32m     43\u001b[0m         activations_list\u001b[39m.\u001b[39mappend(act\u001b[39m.\u001b[39mtolist())\n\u001b[0;32m     44\u001b[0m \u001b[39melse\u001b[39;00m:\n",
      "\u001b[1;31mAttributeError\u001b[0m: 'float' object has no attribute 'ndim'"
     ]
    }
   ],
   "source": [
    "simplifier = NeuronTextSimplifier(model, 6, 3071)\n",
    "\n",
    "input_text_list = [\"a b c\", \"1 2\", \" the\"]\n",
    "\n",
    "# text_list_final = []\n",
    "# act_list_final = []\n",
    "# for text in input_text_list:\n",
    "#     tokens = simplifier.model.to_tokens(text, prepend_bos=False)[0]\n",
    "#     original_activation = simplifier.get_neuron_activation(tokens)\n",
    "#     text_list = simplifier.model.to_str_tokens(text, prepend_bos=False) + [\"\\n\"]\n",
    "#     act_list = original_activation + [0.0]\n",
    "#     changes = th.zeros(tokens.shape[-1])+100\n",
    "#     for j in range(len(tokens)-1):\n",
    "#         for i in range(len(tokens)):\n",
    "#             changes[i] = simplifier.get_neuron_activation(th.cat((tokens[:i],tokens[i+1:])))[-1]\n",
    "#         max_ind = changes.argmax()\n",
    "#         changes = th.cat((changes[:max_ind], changes[max_ind+1:]))\n",
    "#         tokens = th.cat((tokens[:max_ind],tokens[max_ind+1:]))\n",
    "#         out_text = simplifier.model.to_string(tokens)\n",
    "#         text_list += simplifier.model.to_str_tokens(out_text, prepend_bos=False) + [\"\\n\"]\n",
    "#         act_list += simplifier.get_neuron_activation(tokens) + [0.0]\n",
    "#     text_list = text_list\n",
    "#     act_list = th.tensor(act_list).reshape(-1,1,1)\n",
    "#     text_list_final.append(text_list)\n",
    "#     act_list_final.append(act_list)\n",
    "# text_neuron_activations(tokens=text_list_final, activations=act_list_final)\n"
   ]
  },
  {
   "cell_type": "code",
   "execution_count": 40,
   "metadata": {},
   "outputs": [
    {
     "data": {
      "text/plain": [
       "tensor([[[ 0.2519]],\n",
       "\n",
       "        [[-0.3919]],\n",
       "\n",
       "        [[-0.8256]],\n",
       "\n",
       "        [[ 0.0000]],\n",
       "\n",
       "        [[ 0.2519]],\n",
       "\n",
       "        [[-0.1400]],\n",
       "\n",
       "        [[ 0.0000]],\n",
       "\n",
       "        [[ 0.2809]],\n",
       "\n",
       "        [[ 0.0000]]])"
      ]
     },
     "execution_count": 40,
     "metadata": {},
     "output_type": "execute_result"
    }
   ],
   "source": [
    "act_list"
   ]
  },
  {
   "cell_type": "code",
   "execution_count": 35,
   "metadata": {},
   "outputs": [
    {
     "name": "stdout",
     "output_type": "stream",
     "text": [
      "<div id=\"circuits-vis-b83c7cb8-ef4d\" style=\"margin: 15px 0;\"/>\n",
      "    <script crossorigin type=\"module\">\n",
      "    import { render, TextNeuronActivations } from \"https://unpkg.com/circuitsvis@1.39.1/dist/cdn/esm.js\";\n",
      "    render(\n",
      "      \"circuits-vis-b83c7cb8-ef4d\",\n",
      "      TextNeuronActivations,\n",
      "      {\"tokens\": [[\" The\", \" quick\", \" brown\", \" fox\", \" jumps\", \" over\", \" the\", \" lazy\", \" dog\"], [\" The\", \" quick\", \" brown\", \" fox\", \" jumps\", \" over\", \" lazy\", \" dog\"], [\" The\", \" quick\", \" brown\", \" fox\", \" jumps\", \" over\", \" dog\"], [\" The\", \" quick\", \" brown\", \" fox\", \" over\", \" dog\"], [\" The\", \" quick\", \" fox\", \" over\", \" dog\"], [\" The\", \" fox\", \" over\", \" dog\"], [\" fox\", \" over\", \" dog\"], [\" fox\", \" dog\"], [\" fox\"]], \"activations\": [[[[10.069885253906]], [[-0.825380802154541]], [[-0.08990397304296494]], [[-0.2231120765209198]], [[-0.37210991978645325]], [[-1.0284030437469482]], [[-1.4960975646972656]], [[-1.0088225603103638]], [[-0.19542530179023743]]], [[[10.069885253906]], [[-0.825380802154541]], [[-0.08990397304296494]], [[-0.2231120765209198]], [[-0.37210991978645325]], [[-1.0284030437469482]], [[-0.6542456746101379]], [[0.27394217252731323]]], [[[10.069885253906]], [[-0.825380802154541]], [[-0.08990397304296494]], [[-0.2231120765209198]], [[-0.37210991978645325]], [[-1.0284030437469482]], [[0.5096787810325623]]], [[[10.069885253906]], [[-0.825380802154541]], [[-0.08990397304296494]], [[-0.2231120765209198]], [[-0.28618401288986206]], [[0.5279716849327087]]], [[[10.069885253906]], [[-0.825380802154541]], [[0.045023269951343536]], [[-0.1511257290840149]], [[0.5634002089500427]]], [[[10.069885253906]], [[0.2671670913696289]], [[0.18694603443145752]], [[0.5368050932884216]]], [[[0.3217410445213318]], [[-0.11252971738576889]], [[0.429878294467926]]], [[[0.3217410445213318]], [[0.2451305389404297]]], [[[0.3217410743236542]]]]}\n",
      "    )\n",
      "    </script>\n"
     ]
    },
    {
     "data": {
      "text/html": [
       "<div id=\"circuits-vis-b83c7cb8-ef4d\" style=\"margin: 15px 0;\"/>\n",
       "    <script crossorigin type=\"module\">\n",
       "    import { render, TextNeuronActivations } from \"https://unpkg.com/circuitsvis@1.39.1/dist/cdn/esm.js\";\n",
       "    render(\n",
       "      \"circuits-vis-b83c7cb8-ef4d\",\n",
       "      TextNeuronActivations,\n",
       "      {\"tokens\": [[\" The\", \" quick\", \" brown\", \" fox\", \" jumps\", \" over\", \" the\", \" lazy\", \" dog\"], [\" The\", \" quick\", \" brown\", \" fox\", \" jumps\", \" over\", \" lazy\", \" dog\"], [\" The\", \" quick\", \" brown\", \" fox\", \" jumps\", \" over\", \" dog\"], [\" The\", \" quick\", \" brown\", \" fox\", \" over\", \" dog\"], [\" The\", \" quick\", \" fox\", \" over\", \" dog\"], [\" The\", \" fox\", \" over\", \" dog\"], [\" fox\", \" over\", \" dog\"], [\" fox\", \" dog\"], [\" fox\"]], \"activations\": [[[[10.069885253906]], [[-0.825380802154541]], [[-0.08990397304296494]], [[-0.2231120765209198]], [[-0.37210991978645325]], [[-1.0284030437469482]], [[-1.4960975646972656]], [[-1.0088225603103638]], [[-0.19542530179023743]]], [[[10.069885253906]], [[-0.825380802154541]], [[-0.08990397304296494]], [[-0.2231120765209198]], [[-0.37210991978645325]], [[-1.0284030437469482]], [[-0.6542456746101379]], [[0.27394217252731323]]], [[[10.069885253906]], [[-0.825380802154541]], [[-0.08990397304296494]], [[-0.2231120765209198]], [[-0.37210991978645325]], [[-1.0284030437469482]], [[0.5096787810325623]]], [[[10.069885253906]], [[-0.825380802154541]], [[-0.08990397304296494]], [[-0.2231120765209198]], [[-0.28618401288986206]], [[0.5279716849327087]]], [[[10.069885253906]], [[-0.825380802154541]], [[0.045023269951343536]], [[-0.1511257290840149]], [[0.5634002089500427]]], [[[10.069885253906]], [[0.2671670913696289]], [[0.18694603443145752]], [[0.5368050932884216]]], [[[0.3217410445213318]], [[-0.11252971738576889]], [[0.429878294467926]]], [[[0.3217410445213318]], [[0.2451305389404297]]], [[[0.3217410743236542]]]]}\n",
       "    )\n",
       "    </script>"
      ],
      "text/plain": [
       "<circuitsvis.utils.render.RenderedHTML at 0x1add0c28af0>"
      ]
     },
     "execution_count": 35,
     "metadata": {},
     "output_type": "execute_result"
    }
   ],
   "source": [
    "l = j.cdn_src\n",
    "# l = l.replace(', \"firstDimensionName\": \"Layer\", \"secondDimensionName\": \"Neuron\"', '')\n",
    "print(l)\n",
    "k = j\n",
    "k.cdn_src = l\n",
    "k"
   ]
  },
  {
   "cell_type": "code",
   "execution_count": 7,
   "metadata": {},
   "outputs": [
    {
     "data": {
      "text/plain": [
       "torch.Size([8, 1, 1])"
      ]
     },
     "execution_count": 7,
     "metadata": {},
     "output_type": "execute_result"
    }
   ],
   "source": [
    "act_list[1].reshape(-1,1,1).shape"
   ]
  },
  {
   "cell_type": "code",
   "execution_count": 6,
   "metadata": {},
   "outputs": [
    {
     "data": {
      "text/html": [
       "<div id=\"circuits-vis-47acace0-90ac\" style=\"margin: 15px 0;\"/>\n",
       "    <script crossorigin type=\"module\">\n",
       "    import { render, TextNeuronActivations } from \"https://unpkg.com/circuitsvis@1.39.1/dist/cdn/esm.js\";\n",
       "    render(\n",
       "      \"circuits-vis-47acace0-90ac\",\n",
       "      TextNeuronActivations,\n",
       "      {\"tokens\": [[\"Hi\", \" and\", \" welcome\", \" to\", \" the\", \" Attention\", \" Patterns\", \" example\"], [\"This\", \" is\", \" another\", \" example\", \" of\", \" colored\", \" tokens\"], [\"And\", \" here\", \" another\", \" example\", \" of\", \" colored\", \" tokens\", \" with\", \" more\", \" words.\"], [\"This\", \" is\", \" another\", \" example\", \" of\", \" tokens.\"]], \"activations\": [[[[-2.350659424156189, 8.782241430247872, 4.107867023242364, 0.02318235915170216], [1.033368604031135, -3.527816312393047, -1.8663812883311466, -1.2979439581382082], [-2.531466331454026, -0.0778993643160274, -2.316548713955129, -4.275554517341275]], [[-3.4957315435861687, -8.906511396478397, 4.935047370514823, -3.173185058201807], [-0.31519411006964987, 5.7233500779832545, 5.391558779503496, -0.3878320236908045], [-8.570104683017895, -4.660687806627871, -0.5660972771021545, 3.9403648474106894]], [[-10.45954313544129, 0.6481604638272511, -1.181315872258936, -5.084208076900262], [-4.367439311429393, -2.5933526429166953, 0.38472957653525036, 0.23688976158558916], [-3.187323365734275, 1.8005673890327611, 9.389689649014258, 1.6855910580569367]], [[-2.4226816309869545, -0.3490818719995068, 3.638279228834092, 1.1694677961179476], [-0.6105770801205036, -6.186662285725762, -0.7192503797602467, 0.6335783892748152], [8.244391720026034, 1.6990824667339752, -4.645639706921435, -4.050355527107743]], [[3.8572689129711297, -4.682458597265674, 0.13029589857667995, -0.6883089395395185], [5.260123615565554, 7.790042380734451, 5.28807189937697, -0.37908832008635196], [-5.515074021943316, 0.5052862244888358, 3.089722274403666, 4.858452620767838]], [[3.1923830343367743, 7.037069310502957, -2.421543964994003, -3.9722615503220773], [-2.792350600568392, 5.570538112777737, 0.9090037438128997, -2.113333590569821], [8.862097566563149, -7.012128386558386, 2.399320151132072, 2.638197910645829]], [[-0.9176574471976959, 9.650135570973692, -4.418546187721518, -5.2488554789625566], [5.6589216363529555, -9.809251297966053, 4.354853655091365, -4.264443217657831], [-0.013000616494690687, -4.904841521353177, -8.96986421864029, 1.7738705426995698]], [[1.7927376289076802, -6.657394045545902, -3.2802428311788927, 1.0158367570432723], [5.730025288809545, 0.49800429417494085, 3.6204733843861643, -4.766584507191233], [2.931073152115517, -2.6299810205703644, 1.342556311363206, -2.2793270966061643]]], [[[2.512525210670797, 7.768017229460571, 3.4362584464423076, -7.262717993768054], [-1.3315041959047371, -10.103521107818809, 2.085610283767969, 10.033628449846736], [1.9592832972627323, 2.155558844901421, 3.1690304288614253, 2.7807788782557563]], [[1.3277181488183365, 1.6236658321792496, 6.199769183855467, -0.6288007481654646], [-8.34135586451379, -1.361792044437914, 7.042193966160194, -3.9360835205080624], [-0.4159260687815589, -2.961138613190391, 1.1484713483520341, 10.860281336208025]], [[0.28442047418990946, -6.534306259349756, 6.5941763387361805, 6.000114914399828], [2.8572734925480088, -0.767503466545607, -9.99591646624093, -6.171290254444446], [2.4670016612554977, 0.9359804739207277, -3.5155759861494102, -4.7723920525466905]], [[0.2000101739619597, -1.4873241275122604, -6.7302606738465665, -0.2568283973071325], [0.5140378833235449, -0.9093064751517068, -2.0258369904626687, 1.2854059924687982], [-2.7259416547288318, 12.356160592528733, 2.426732261519886, -7.240961607486579]], [[2.584584636824178, 2.2345532407814552, 1.091675713082458, 4.525626191102906], [-2.254456719889841, -9.07113446924854, 2.049196734709219, 3.0058242592329147], [8.181439613060927, -0.20826665103438485, 4.3622376758245975, 1.4164824642525806]], [[-4.7940848386320365, -1.3880686650172624, -8.875379561172064, 1.3166560138498604], [-0.3351151888378707, 4.85400629125336, -1.678349148052713, -4.996160897629247], [2.106372127901355, -3.1782916828653383, 3.045330744107897, -2.3979321131044977]], [[-6.300093010718949, -6.055379833511236, -1.9228952537923765, 2.9926530070606545], [-9.475912963565492, -5.220876415437261, 4.948496676790776, -3.4536844430042035], [0.12081013507633243, -0.4932376266449363, -0.7681951818181655, 0.9068619002287913]]], [[[-3.1172644413662414, 5.89166714011642, 3.6364174501654527, 3.0407291014075617], [-7.014301931346681, 0.9317203352700607, -3.199906936478537, -1.522456853278142], [2.383912405149496, 0.10807721669212939, -3.749217321611863, 3.0360022803291384]], [[6.169523251982497, 5.925842805697734, 5.486937388837344, 6.689178386122591], [-2.562685664756696, -3.741602217017419, 2.2038136201520593, -2.963101379324234], [-1.7336908884421378, 0.10044825566425115, -5.942693281261149, 3.2977461976717226]], [[-9.201782244272367, 4.530089685036243, -0.023776796369094924, -0.9642743515329746], [10.572234436168344, -3.873028914126189, -11.743708874848913, 1.378457560491049], [-2.8062802931711235, 3.521395162382105, -5.461257974153052, 6.669785796505151]], [[3.1966756046334037, -3.4391850642988215, 0.4365099553528589, -2.898223150786702], [3.588827044178543, -2.3437091966347885, 11.43565847417128, 8.040577921282877], [-1.4167624879920848, -1.6992876178995449, -4.652724088023443, -7.8579486809614485]], [[3.8369214243858742, 0.16918725748647306, 0.8646812982309754, 6.063946110649148], [-2.123290413739577, -4.157827574790894, 1.7543797502737015, -3.824576139070926], [-5.264852029287522, 4.618782261379968, -4.225697736332979, -1.2027820538119698]], [[8.10005514934652, -2.2579333799187955, -4.334725485513087, 1.5021023267789502], [-5.775737475229682, -2.2558332803793344, 4.943881010071943, 4.823755064100526], [2.901810685624162, -2.3398663393443058, -1.9869428473547268, -4.204579314100349]], [[-2.293838818600596, 9.142321672537319, -0.4601269370175861, -1.889171664269531], [-7.815826361409454, -5.723691996421198, 1.162117097103446, 2.2305425448868075], [-2.8148164663256035, 6.584712724423236, -4.475719491113218, 0.4536122708968423]], [[13.077017435703421, 0.38996005401108874, 5.01895742120161, 1.389531656788265], [-0.18723809391380603, 2.644904620365547, 2.7954758307869425, 7.725406213316834], [4.560200782178081, 6.063058854052413, 8.907493978783268, 5.8662762935434465]], [[1.4972807180129253, 3.7586448560540346, -7.6248842628295925, -5.034545091798416], [-2.830183807354193, 6.041003424387823, 0.7370871165392822, 2.1689652282549217], [-2.0277198485871333, 7.544597972886088, 3.092787076824579, 5.748835169128455]], [[4.64245971831919, -1.8730310683968752, -0.42503283726979935, 6.66293713849452], [-1.1900015627524554, 1.8104349780417697, 6.089493316922987, 0.39816573311790415], [2.657001277477086, -6.384537448080332, -5.737123636788844, 1.7946808076307332]]], [[[-1.316036345146914, -5.920455328812686, -3.105080428212527, 13.545010882820819], [4.8520740111401075, -1.9990698786720045, -2.099289905703526, 7.197495718123557], [1.9850952548629381, 4.370331547885256, 2.3769962532983886, 3.284570604633391]], [[5.33572429343585, -4.022727954292823, -2.2448326823917624, -1.0117470253195735], [0.2838964976144783, 3.3419702331744956, 3.0135336760715696, -2.8682303099239825], [8.45794157524043, -12.226107679231824, -4.548126799064201, -9.90220193998066]], [[-4.382169403525261, 7.99388453312851, 1.1039171281077969, -5.7204246610309175], [-6.133049736476139, -2.731901674616048, 4.518876983983018, -1.0739194695520418], [1.4361526586680262, 0.888599028397977, -2.4612063385616163, 2.6815194564101446]], [[-1.6432614504754481, -3.2786179288737367, 1.9949103225485647, 1.6783830950031067], [2.5448507847814863, 3.0321256204071383, 0.12514093558692446, -7.544156557560982], [1.262450995793181, -1.3027832058484445, -11.771159948314425, -5.277727871459865]], [[-1.5978356305854224, -0.6258685826201336, -2.9863981032869242, -5.05125421908263], [4.911379181128293, -4.9299857853248, -2.3767186438665378, -5.8063894004762755], [1.9501152199821967, -6.486675427744652, 1.767873492607619, -9.405757035587479]], [[7.696554601083111, 4.938088136026688, 7.257269066398653, -5.201113556921534], [2.193808369009975, -1.1999164841944618, -8.913290350173055, 3.0374302998252514], [2.711707844827465, 4.5462073322493906, -0.6871521446284851, -3.2101809189400052]]]], \"firstDimensionName\": \"Layer\", \"secondDimensionName\": \"Neuron\"}\n",
       "    )\n",
       "    </script>"
      ],
      "text/plain": [
       "<circuitsvis.utils.render.RenderedHTML at 0x23381800b20>"
      ]
     },
     "execution_count": 6,
     "metadata": {},
     "output_type": "execute_result"
    }
   ],
   "source": [
    "tokens = [['Hi', ' and', ' welcome', ' to', ' the', ' Attention', ' Patterns', ' example'], ['This', ' is', ' another', ' example', ' of', ' colored', ' tokens'], ['And', ' here', ' another', ' example', ' of', ' colored', ' tokens', ' with', ' more', ' words.'], ['This', ' is', ' another', ' example', ' of', ' tokens.']]\n",
    "n_layers = 3\n",
    "n_neurons_per_layer = 4\n",
    "activations = []\n",
    "for sample in tokens:\n",
    "    sample_activations = np.random.normal(size=(len(sample), n_layers, n_neurons_per_layer)) * 5\n",
    "    activations.append(sample_activations)\n",
    "text_neuron_activations(tokens=tokens, activations=activations)"
   ]
  },
  {
   "cell_type": "code",
   "execution_count": 7,
   "metadata": {},
   "outputs": [
    {
     "data": {
      "text/html": [
       "<div id=\"circuits-vis-b2ecb600-6dd0\" style=\"margin: 15px 0;\"/>\n",
       "    <script crossorigin type=\"module\">\n",
       "    import { render, ColoredTokens } from \"https://unpkg.com/circuitsvis@1.39.1/dist/cdn/esm.js\";\n",
       "    render(\n",
       "      \"circuits-vis-b2ecb600-6dd0\",\n",
       "      ColoredTokens,\n",
       "      {\"tokens\": [\"Hi\", \" and\", \" welcome\", \" to\", \" the\", \" Colored\", \" Tokens\", \" example\"], \"values\": [0.6837465290055024, 0.6259814282734237, -0.010392955712380612, 0.06139183245028246, 0.9708553128694892, 0.9594728755705343, 1.2543231136991086, -1.5543250637664214]}\n",
       "    )\n",
       "    </script>"
      ],
      "text/plain": [
       "<circuitsvis.utils.render.RenderedHTML at 0x2338074e470>"
      ]
     },
     "execution_count": 7,
     "metadata": {},
     "output_type": "execute_result"
    }
   ],
   "source": [
    "tokens = ['Hi', ' and', ' welcome', ' to', ' the', ' Colored', ' Tokens', ' example']\n",
    "values = np.random.normal(size=(len(tokens))).tolist()\n",
    "colored_tokens(tokens, values)"
   ]
  }
 ],
 "metadata": {
  "kernelspec": {
   "display_name": "max",
   "language": "python",
   "name": "python3"
  },
  "language_info": {
   "codemirror_mode": {
    "name": "ipython",
    "version": 3
   },
   "file_extension": ".py",
   "mimetype": "text/x-python",
   "name": "python",
   "nbconvert_exporter": "python",
   "pygments_lexer": "ipython3",
   "version": "3.10.9"
  },
  "orig_nbformat": 4,
  "vscode": {
   "interpreter": {
    "hash": "94f643171f386ff22d52257101c4dac4d2d863738d90bca2a200bbe9f551387a"
   }
  }
 },
 "nbformat": 4,
 "nbformat_minor": 2
}
