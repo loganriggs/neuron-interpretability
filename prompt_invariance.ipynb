{
 "cells": [
  {
   "cell_type": "code",
   "execution_count": 1,
   "metadata": {},
   "outputs": [
    {
     "name": "stderr",
     "output_type": "stream",
     "text": [
      "/home/mchorse/miniconda3/envs/logan/lib/python3.10/site-packages/tqdm/auto.py:21: TqdmWarning: IProgress not found. Please update jupyter and ipywidgets. See https://ipywidgets.readthedocs.io/en/stable/user_install.html\n",
      "  from .autonotebook import tqdm as notebook_tqdm\n",
      "Using pad_token, but it is not set yet.\n"
     ]
    },
    {
     "name": "stdout",
     "output_type": "stream",
     "text": [
      "Loaded pretrained model EleutherAI/pythia-160m-deduped into HookedTransformer\n"
     ]
    },
    {
     "name": "stderr",
     "output_type": "stream",
     "text": [
      "Using pad_token, but it is not set yet.\n"
     ]
    },
    {
     "name": "stdout",
     "output_type": "stream",
     "text": [
      "Loaded pretrained model EleutherAI/pythia-70m-deduped into HookedTransformer\n",
      "Prompt Invariance for EleutherAI/pythia-70m-deduped\n",
      "tensor([5, 7, 4, 3, 9, 6, 0, 1, 2, 8])\n",
      "tensor([4, 1, 5, 2, 9, 8, 6, 7, 3, 0])\n",
      "Layer 0: tensor([   0,    1,    2,  ..., 2045, 2046, 2047]) neurons are prompt invariant\n",
      "Layer 1: tensor([  45, 1278]) neurons are prompt invariant\n",
      "Layer 2: tensor([]) neurons are prompt invariant\n",
      "Layer 3: tensor([]) neurons are prompt invariant\n",
      "Layer 4: tensor([]) neurons are prompt invariant\n",
      "Layer 5: tensor([]) neurons are prompt invariant\n"
     ]
    },
    {
     "name": "stderr",
     "output_type": "stream",
     "text": [
      "Using pad_token, but it is not set yet.\n"
     ]
    },
    {
     "name": "stdout",
     "output_type": "stream",
     "text": [
      "Loaded pretrained model EleutherAI/pythia-160m-deduped into HookedTransformer\n",
      "Prompt Invariance for EleutherAI/pythia-160m-deduped\n",
      "tensor([9, 8, 2, 1, 6, 0, 5, 4, 3, 7])\n",
      "tensor([6, 3, 0, 9, 5, 7, 2, 8, 1, 4])\n",
      "Layer 0: tensor([   0,    1,    2,  ..., 3069, 3070, 3071]) neurons are prompt invariant\n",
      "Layer 1: tensor([]) neurons are prompt invariant\n",
      "Layer 2: tensor([]) neurons are prompt invariant\n",
      "Layer 3: tensor([]) neurons are prompt invariant\n",
      "Layer 4: tensor([]) neurons are prompt invariant\n",
      "Layer 5: tensor([]) neurons are prompt invariant\n",
      "Layer 6: tensor([]) neurons are prompt invariant\n",
      "Layer 7: tensor([]) neurons are prompt invariant\n",
      "Layer 8: tensor([]) neurons are prompt invariant\n",
      "Layer 9: tensor([]) neurons are prompt invariant\n",
      "Layer 10: tensor([]) neurons are prompt invariant\n",
      "Layer 11: tensor([]) neurons are prompt invariant\n"
     ]
    },
    {
     "name": "stderr",
     "output_type": "stream",
     "text": [
      "Using pad_token, but it is not set yet.\n"
     ]
    },
    {
     "name": "stdout",
     "output_type": "stream",
     "text": [
      "Loaded pretrained model EleutherAI/pythia-410m-deduped into HookedTransformer\n",
      "Prompt Invariance for EleutherAI/pythia-410m-deduped\n",
      "tensor([0, 6, 9, 1, 5, 2, 7, 8, 3, 4])\n",
      "tensor([3, 9, 1, 2, 4, 0, 5, 8, 7, 6])\n",
      "Layer 0: tensor([   0,    1,    2,  ..., 4093, 4094, 4095]) neurons are prompt invariant\n",
      "Layer 1: tensor([]) neurons are prompt invariant\n",
      "Layer 2: tensor([]) neurons are prompt invariant\n",
      "Layer 3: tensor([ 518,  782, 1302, 2311, 2400, 3037, 3353, 3414]) neurons are prompt invariant\n",
      "Layer 4: tensor([]) neurons are prompt invariant\n",
      "Layer 5: tensor([]) neurons are prompt invariant\n",
      "Layer 6: tensor([]) neurons are prompt invariant\n",
      "Layer 7: tensor([]) neurons are prompt invariant\n",
      "Layer 8: tensor([]) neurons are prompt invariant\n",
      "Layer 9: tensor([]) neurons are prompt invariant\n",
      "Layer 10: tensor([]) neurons are prompt invariant\n",
      "Layer 11: tensor([]) neurons are prompt invariant\n",
      "Layer 12: tensor([]) neurons are prompt invariant\n",
      "Layer 13: tensor([]) neurons are prompt invariant\n",
      "Layer 14: tensor([]) neurons are prompt invariant\n",
      "Layer 15: tensor([]) neurons are prompt invariant\n",
      "Layer 16: tensor([]) neurons are prompt invariant\n",
      "Layer 17: tensor([]) neurons are prompt invariant\n",
      "Layer 18: tensor([]) neurons are prompt invariant\n",
      "Layer 19: tensor([]) neurons are prompt invariant\n",
      "Layer 20: tensor([]) neurons are prompt invariant\n",
      "Layer 21: tensor([]) neurons are prompt invariant\n",
      "Layer 22: tensor([]) neurons are prompt invariant\n",
      "Layer 23: tensor([1232]) neurons are prompt invariant\n"
     ]
    }
   ],
   "source": [
    "# Import Transformer Lens, and load pythia models\n",
    "from transformer_lens import HookedTransformer\n",
    "import torch as th\n",
    "from torch.utils.data import DataLoader\n",
    "from tqdm import tqdm\n",
    "from einops import rearrange\n",
    "device = th.device(\"cuda\" if th.cuda.is_available() else \"cpu\")\n",
    "model = HookedTransformer.from_pretrained(\"EleutherAI/pythia-160m-deduped\", device=device)\n",
    "MODEL_NAME_LIST = [\n",
    "    \"EleutherAI/pythia-70m-deduped\", \n",
    "    \"EleutherAI/pythia-160m-deduped\", \n",
    "    \"EleutherAI/pythia-410m-deduped\", \n",
    "    # \"gpt2\", \n",
    "    # \"gpt2-medium\",\n",
    "    # \"solu-1l\",\n",
    "    # \"solu-2l\",\n",
    "    # \"solu-3l\",\n",
    "    # \"solu-4l\",\n",
    "]\n",
    "\n",
    "\n",
    "def prompt_invariance(model, token_amount=10):\n",
    "    neurons = model.cfg.d_mlp\n",
    "    vocab_size = model.cfg.d_vocab\n",
    "    token_amount = 10\n",
    "    \n",
    "    # Create a random 10 token input\n",
    "    random_input = th.randint(0, vocab_size, (1,token_amount), device=device)\n",
    "    # # # Create permutation index that cycles the random input once\n",
    "    # perm_index = th.cat((th.tensor([-1]), th.arange(token_amount-1)))\n",
    "    # # # Create a random permutation index\n",
    "    perm_index1 = th.randperm(token_amount)\n",
    "    perm_index2 = th.randperm(token_amount)\n",
    "    # random_input = th.cat((th.tensor([[model.tokenizer.bos_token_id]]),th.randint(1, vocab_size, (1,token_amount), device=device)), dim=1)\n",
    "    # perm_index = th.cat((th.tensor([0]), th.tensor([-1]), th.arange(1,token_amount)))\n",
    "    # print(random_input)\n",
    "    print(perm_index1)\n",
    "    print(perm_index2)\n",
    "    # print(random_input[:,perm_index])\n",
    "    # Create a random permutation index\n",
    "    # perm_index = th.randperm(token_amount)\n",
    "    final_input = th.cat((random_input, random_input[:,perm_index1], random_input[:,perm_index2]), dim=0)\n",
    "    _, cache = model.run_with_cache(final_input.to(device))\n",
    "    layers = len(model.blocks)\n",
    "    for l in range(layers):\n",
    "        # Now we want to see if the activations of the random_input are the same as the permuted input (but permute activations as well)\n",
    "        random_act1 = cache[f\"blocks.{l}.mlp.hook_post\"][0, perm_index1]\n",
    "        random_act2 = cache[f\"blocks.{l}.mlp.hook_post\"][0, perm_index2]\n",
    "        perm_act1 = cache[f\"blocks.{l}.mlp.hook_post\"][1]\n",
    "        perm_act2 = cache[f\"blocks.{l}.mlp.hook_post\"][2]\n",
    "        percent_diff = 0.01\n",
    "        # prompt_invariant_neurons = th.sum(th.tensor([th.allclose(random_act1[:,i], perm_act1[:,i]) and th.allclose(random_act2[:,i], perm_act2[:,i]) for i in range(neurons)])).item()\n",
    "        prompt_invariant_neurons = th.tensor([i for i in range(neurons) if (th.allclose(random_act1[:,i], perm_act1[:,i], rtol=0.01) and th.allclose(random_act2[:,i], perm_act2[:,i], rtol=0.01))])\n",
    "        # print layer and number of neurons that are prompt invariant\n",
    "        # print(f\"Layer {l}: {prompt_invariant_neurons}/{neurons} neurons are prompt invariant\")\n",
    "        print(f\"Layer {l}: {prompt_invariant_neurons} neurons are prompt invariant\")\n",
    "\n",
    "for model_name in MODEL_NAME_LIST:\n",
    "    model = HookedTransformer.from_pretrained(model_name, device=device)\n",
    "    print(f\"Prompt Invariance for {model_name}\")\n",
    "    prompt_invariance(model)"
   ]
  },
  {
   "cell_type": "code",
   "execution_count": 3,
   "metadata": {},
   "outputs": [
    {
     "ename": "NameError",
     "evalue": "name 'random_act2' is not defined",
     "output_type": "error",
     "traceback": [
      "\u001b[0;31m---------------------------------------------------------------------------\u001b[0m",
      "\u001b[0;31mNameError\u001b[0m                                 Traceback (most recent call last)",
      "Cell \u001b[0;32mIn[3], line 1\u001b[0m\n\u001b[0;32m----> 1\u001b[0m random_act2[:,i]\n",
      "\u001b[0;31mNameError\u001b[0m: name 'random_act2' is not defined"
     ]
    }
   ],
   "source": [
    "random_act2[:,i]"
   ]
  },
  {
   "cell_type": "code",
   "execution_count": 5,
   "metadata": {},
   "outputs": [
    {
     "data": {
      "text/plain": [
       "True"
      ]
     },
     "execution_count": 5,
     "metadata": {},
     "output_type": "execute_result"
    }
   ],
   "source": [
    "import torch as th\n",
    "r = th.ones(2,10)\n",
    "th.allclose(r[:,0], r[:,1]) and th.allclose(r[:,1], r[:,2])"
   ]
  },
  {
   "cell_type": "code",
   "execution_count": 9,
   "metadata": {},
   "outputs": [
    {
     "name": "stdout",
     "output_type": "stream",
     "text": [
      "solu-1l\n"
     ]
    }
   ],
   "source": [
    "for model_name in MODEL_NAME_LIST:\n",
    "    print(model_name)"
   ]
  },
  {
   "cell_type": "code",
   "execution_count": 7,
   "metadata": {},
   "outputs": [
    {
     "data": {
      "text/plain": [
       "1"
      ]
     },
     "execution_count": 7,
     "metadata": {},
     "output_type": "execute_result"
    }
   ],
   "source": [
    "model.tokenizer.bos_token_id"
   ]
  },
  {
   "cell_type": "code",
   "execution_count": 4,
   "metadata": {},
   "outputs": [
    {
     "data": {
      "text/plain": [
       "torch.Size([1, 10])"
      ]
     },
     "execution_count": 4,
     "metadata": {},
     "output_type": "execute_result"
    }
   ],
   "source": [
    "a = th.randint(1, 50000, (1,10), device=device)\n",
    "a.shape"
   ]
  },
  {
   "cell_type": "code",
   "execution_count": 6,
   "metadata": {},
   "outputs": [
    {
     "data": {
      "text/plain": [
       "tensor([[    0,  1541, 42689, 41799, 27115, 28946, 35524,  2859, 34025, 24278,\n",
       "         10816]])"
      ]
     },
     "execution_count": 6,
     "metadata": {},
     "output_type": "execute_result"
    }
   ],
   "source": [
    "b = th.tensor([[0]])\n",
    "th.cat((b,a), dim=1)"
   ]
  },
  {
   "cell_type": "code",
   "execution_count": 30,
   "metadata": {},
   "outputs": [
    {
     "data": {
      "text/plain": [
       "tensor(3177)"
      ]
     },
     "execution_count": 30,
     "metadata": {},
     "output_type": "execute_result"
    }
   ],
   "source": [
    "(th.abs((random_act - perm_act)) < th.abs(random_act*percent_diff)).sum()"
   ]
  },
  {
   "cell_type": "code",
   "execution_count": 68,
   "metadata": {},
   "outputs": [
    {
     "data": {
      "text/plain": [
       "tensor([-1,  0,  1,  2,  3,  4,  5,  6,  7,  8])"
      ]
     },
     "execution_count": 68,
     "metadata": {},
     "output_type": "execute_result"
    }
   ],
   "source": [
    "perm_index"
   ]
  }
 ],
 "metadata": {
  "kernelspec": {
   "display_name": "max",
   "language": "python",
   "name": "python3"
  },
  "language_info": {
   "codemirror_mode": {
    "name": "ipython",
    "version": 3
   },
   "file_extension": ".py",
   "mimetype": "text/x-python",
   "name": "python",
   "nbconvert_exporter": "python",
   "pygments_lexer": "ipython3",
   "version": "3.10.9"
  },
  "orig_nbformat": 4
 },
 "nbformat": 4,
 "nbformat_minor": 2
}
