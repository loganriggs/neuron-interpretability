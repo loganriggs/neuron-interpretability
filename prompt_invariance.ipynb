{
 "cells": [
  {
   "cell_type": "code",
   "execution_count": 11,
   "metadata": {},
   "outputs": [
    {
     "name": "stderr",
     "output_type": "stream",
     "text": [
      "Using pad_token, but it is not set yet.\n"
     ]
    },
    {
     "name": "stdout",
     "output_type": "stream",
     "text": [
      "Loaded pretrained model EleutherAI/pythia-160m-deduped into HookedTransformer\n",
      "Loaded pretrained model solu-1l into HookedTransformer\n",
      "Prompt Invariance for solu-1l\n",
      "tensor([[    1, 22407, 38891, 13882,  4962, 48015, 46707,  9957, 45002,  1486,\n",
      "         46827]])\n",
      "tensor([ 0, -1,  1,  2,  3,  4,  5,  6,  7,  8,  9])\n",
      "tensor([[    1, 46827, 22407, 38891, 13882,  4962, 48015, 46707,  9957, 45002,\n",
      "          1486]])\n",
      "Layer 0: 0/2048 neurons are prompt invariant\n",
      "Loaded pretrained model solu-2l into HookedTransformer\n",
      "Prompt Invariance for solu-2l\n",
      "tensor([[    1,  2440, 47504,  5713, 35104, 37158,  6950,  8117, 20159, 47451,\n",
      "         27834]])\n",
      "tensor([ 0, -1,  1,  2,  3,  4,  5,  6,  7,  8,  9])\n",
      "tensor([[    1, 27834,  2440, 47504,  5713, 35104, 37158,  6950,  8117, 20159,\n",
      "         47451]])\n",
      "Layer 0: 0/2048 neurons are prompt invariant\n",
      "Layer 1: 0/2048 neurons are prompt invariant\n",
      "Loaded pretrained model solu-3l into HookedTransformer\n",
      "Prompt Invariance for solu-3l\n",
      "tensor([[    1,  5347,  8617, 39336,  1502, 33554, 42764,    17,  8132, 41588,\n",
      "         29813]])\n",
      "tensor([ 0, -1,  1,  2,  3,  4,  5,  6,  7,  8,  9])\n",
      "tensor([[    1, 29813,  5347,  8617, 39336,  1502, 33554, 42764,    17,  8132,\n",
      "         41588]])\n",
      "Layer 0: 0/2048 neurons are prompt invariant\n",
      "Layer 1: 0/2048 neurons are prompt invariant\n",
      "Layer 2: 0/2048 neurons are prompt invariant\n"
     ]
    },
    {
     "name": "stderr",
     "output_type": "stream",
     "text": [
      "Downloading (…)lve/main/config.json: 100%|██████████| 1.27k/1.27k [00:00<00:00, 317kB/s]\n",
      "Downloading (…)\"model_final.pth\";: 100%|██████████| 255M/255M [00:59<00:00, 4.27MB/s] \n"
     ]
    },
    {
     "name": "stdout",
     "output_type": "stream",
     "text": [
      "Loaded pretrained model solu-4l into HookedTransformer\n",
      "Prompt Invariance for solu-4l\n",
      "tensor([[    1, 27716, 18104, 18676,  5811, 44194, 30554, 13633, 37734, 27775,\n",
      "         16406]])\n",
      "tensor([ 0, -1,  1,  2,  3,  4,  5,  6,  7,  8,  9])\n",
      "tensor([[    1, 16406, 27716, 18104, 18676,  5811, 44194, 30554, 13633, 37734,\n",
      "         27775]])\n",
      "Layer 0: 0/2048 neurons are prompt invariant\n",
      "Layer 1: 0/2048 neurons are prompt invariant\n",
      "Layer 2: 0/2048 neurons are prompt invariant\n",
      "Layer 3: 0/2048 neurons are prompt invariant\n"
     ]
    }
   ],
   "source": [
    "# Import Transformer Lens, and load pythia models\n",
    "from transformer_lens import HookedTransformer\n",
    "import torch as th\n",
    "from torch.utils.data import DataLoader\n",
    "from tqdm import tqdm\n",
    "from einops import rearrange\n",
    "device = th.device(\"cuda\" if th.cuda.is_available() else \"cpu\")\n",
    "model = HookedTransformer.from_pretrained(\"EleutherAI/pythia-160m-deduped\", device=device)\n",
    "MODEL_NAME_LIST = [\n",
    "    # \"EleutherAI/pythia-70m-deduped\", \n",
    "    # \"EleutherAI/pythia-160m-deduped\", \n",
    "    # \"EleutherAI/pythia-410m-deduped\", \n",
    "    # \"gpt2\", \n",
    "    # \"gpt2-medium\",\n",
    "    \"solu-1l\",\n",
    "    \"solu-2l\",\n",
    "    \"solu-3l\",\n",
    "    \"solu-4l\",\n",
    "]\n",
    "\n",
    "\n",
    "def prompt_invariance(model, token_amount=10):\n",
    "    neurons = model.cfg.d_mlp\n",
    "    vocab_size = model.cfg.d_vocab\n",
    "    token_amount = 10\n",
    "    \n",
    "    # Create a random 10 token input\n",
    "    # random_input = th.randint(0, vocab_size, (1,token_amount), device=device)\n",
    "    # # # Create permutation index that cycles the random input once\n",
    "    # perm_index = th.cat((th.tensor([-1]), th.arange(token_amount-1)))\n",
    "\n",
    "    random_input = th.cat((th.tensor([[model.tokenizer.bos_token_id]]),th.randint(1, vocab_size, (1,token_amount), device=device)), dim=1)\n",
    "    perm_index = th.cat((th.tensor([0]), th.tensor([-1]), th.arange(1,token_amount)))\n",
    "    print(random_input)\n",
    "    print(perm_index)\n",
    "    print(random_input[:,perm_index])\n",
    "    # Create a random permutation index\n",
    "    # perm_index = th.randperm(token_amount)\n",
    "    final_input = th.cat((random_input, random_input[:,perm_index]), dim=0)\n",
    "    _, cache = model.run_with_cache(final_input.to(device))\n",
    "    layers = len(model.blocks)\n",
    "    for l in range(layers):\n",
    "        # Now we want to see if the activations of the random_input are the same as the permuted input (but permute activations as well)\n",
    "        random_act = cache[f\"blocks.{l}.mlp.hook_post\"][0, perm_index]\n",
    "        perm_act = cache[f\"blocks.{l}.mlp.hook_post\"][1]\n",
    "        percent_diff = 0.01\n",
    "        prompt_invariant_neurons = th.sum(th.tensor([th.allclose(random_act[:,i], perm_act[:,i]) for i in range(neurons)])).item()\n",
    "        # print layer and number of neurons that are prompt invariant\n",
    "        print(f\"Layer {l}: {prompt_invariant_neurons}/{neurons} neurons are prompt invariant\")\n",
    "\n",
    "for model_name in MODEL_NAME_LIST:\n",
    "    model = HookedTransformer.from_pretrained(model_name, device=device)\n",
    "    print(f\"Prompt Invariance for {model_name}\")\n",
    "    prompt_invariance(model)"
   ]
  },
  {
   "cell_type": "code",
   "execution_count": 9,
   "metadata": {},
   "outputs": [
    {
     "name": "stdout",
     "output_type": "stream",
     "text": [
      "solu-1l\n"
     ]
    }
   ],
   "source": [
    "for model_name in MODEL_NAME_LIST:\n",
    "    print(model_name)"
   ]
  },
  {
   "cell_type": "code",
   "execution_count": 7,
   "metadata": {},
   "outputs": [
    {
     "data": {
      "text/plain": [
       "1"
      ]
     },
     "execution_count": 7,
     "metadata": {},
     "output_type": "execute_result"
    }
   ],
   "source": [
    "model.tokenizer.bos_token_id"
   ]
  },
  {
   "cell_type": "code",
   "execution_count": 4,
   "metadata": {},
   "outputs": [
    {
     "data": {
      "text/plain": [
       "torch.Size([1, 10])"
      ]
     },
     "execution_count": 4,
     "metadata": {},
     "output_type": "execute_result"
    }
   ],
   "source": [
    "a = th.randint(1, 50000, (1,10), device=device)\n",
    "a.shape"
   ]
  },
  {
   "cell_type": "code",
   "execution_count": 6,
   "metadata": {},
   "outputs": [
    {
     "data": {
      "text/plain": [
       "tensor([[    0,  1541, 42689, 41799, 27115, 28946, 35524,  2859, 34025, 24278,\n",
       "         10816]])"
      ]
     },
     "execution_count": 6,
     "metadata": {},
     "output_type": "execute_result"
    }
   ],
   "source": [
    "b = th.tensor([[0]])\n",
    "th.cat((b,a), dim=1)"
   ]
  },
  {
   "cell_type": "code",
   "execution_count": 30,
   "metadata": {},
   "outputs": [
    {
     "data": {
      "text/plain": [
       "tensor(3177)"
      ]
     },
     "execution_count": 30,
     "metadata": {},
     "output_type": "execute_result"
    }
   ],
   "source": [
    "(th.abs((random_act - perm_act)) < th.abs(random_act*percent_diff)).sum()"
   ]
  },
  {
   "cell_type": "code",
   "execution_count": 68,
   "metadata": {},
   "outputs": [
    {
     "data": {
      "text/plain": [
       "tensor([-1,  0,  1,  2,  3,  4,  5,  6,  7,  8])"
      ]
     },
     "execution_count": 68,
     "metadata": {},
     "output_type": "execute_result"
    }
   ],
   "source": [
    "perm_index"
   ]
  }
 ],
 "metadata": {
  "kernelspec": {
   "display_name": "max",
   "language": "python",
   "name": "python3"
  },
  "language_info": {
   "codemirror_mode": {
    "name": "ipython",
    "version": 3
   },
   "file_extension": ".py",
   "mimetype": "text/x-python",
   "name": "python",
   "nbconvert_exporter": "python",
   "pygments_lexer": "ipython3",
   "version": "3.10.9"
  },
  "orig_nbformat": 4
 },
 "nbformat": 4,
 "nbformat_minor": 2
}
