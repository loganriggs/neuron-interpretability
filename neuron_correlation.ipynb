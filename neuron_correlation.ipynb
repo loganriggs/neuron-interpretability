{
 "cells": [
  {
   "cell_type": "code",
   "execution_count": 1,
   "metadata": {},
   "outputs": [
    {
     "name": "stderr",
     "output_type": "stream",
     "text": [
      "/home/mchorse/miniconda3/envs/logan/lib/python3.10/site-packages/tqdm/auto.py:21: TqdmWarning: IProgress not found. Please update jupyter and ipywidgets. See https://ipywidgets.readthedocs.io/en/stable/user_install.html\n",
      "  from .autonotebook import tqdm as notebook_tqdm\n",
      "Using pad_token, but it is not set yet.\n"
     ]
    },
    {
     "name": "stdout",
     "output_type": "stream",
     "text": [
      "Loaded pretrained model EleutherAI/pythia-70m-deduped into HookedTransformer\n"
     ]
    },
    {
     "name": "stderr",
     "output_type": "stream",
     "text": [
      "Found cached dataset parquet (/home/mchorse/.cache/huggingface/datasets/NeelNanda___parquet/NeelNanda--pile-10k-72f566e9f7c464ab/0.0.0/2a3b91fbd88a2c90d1dbbb32b460cf621d31bd5b05b934492fdef7d8d6f236ec)\n",
      "Loading cached processed dataset at /home/mchorse/.cache/huggingface/datasets/NeelNanda___parquet/NeelNanda--pile-10k-72f566e9f7c464ab/0.0.0/2a3b91fbd88a2c90d1dbbb32b460cf621d31bd5b05b934492fdef7d8d6f236ec/cache-9b5f9fe88d7bc2e3.arrow\n",
      "Loading cached processed dataset at /home/mchorse/.cache/huggingface/datasets/NeelNanda___parquet/NeelNanda--pile-10k-72f566e9f7c464ab/0.0.0/2a3b91fbd88a2c90d1dbbb32b460cf621d31bd5b05b934492fdef7d8d6f236ec/cache-81ea955e26446615.arrow\n",
      "Loading cached processed dataset at /home/mchorse/.cache/huggingface/datasets/NeelNanda___parquet/NeelNanda--pile-10k-72f566e9f7c464ab/0.0.0/2a3b91fbd88a2c90d1dbbb32b460cf621d31bd5b05b934492fdef7d8d6f236ec/cache-000a30dc29ae5636.arrow\n"
     ]
    },
    {
     "name": "stdout",
     "output_type": "stream",
     "text": [
      "Loaded activations from file\n"
     ]
    }
   ],
   "source": [
    "# Import Transformer Lens, and load pythia models\n",
    "from transformer_lens import HookedTransformer\n",
    "import torch as th\n",
    "from torch import nn\n",
    "import numpy as np \n",
    "from neuron_text_simplifier import NeuronTextSimplifier\n",
    "from datasets import Dataset, load_dataset\n",
    "from transformers import AutoTokenizer\n",
    "from torch.utils.data import DataLoader\n",
    "from tqdm import tqdm\n",
    "from einops import rearrange\n",
    "device = \"cuda:1\" if th.cuda.is_available() else \"cpu\"\n",
    "\n",
    "# model_name = \"EleutherAI/pythia-160m-deduped\"\n",
    "MODEL_NAME_LIST = [\n",
    "    \"EleutherAI/pythia-70m-deduped\", \n",
    "]\n",
    "model_name = MODEL_NAME_LIST[0]\n",
    "model_save_name = model_name.replace(\"/\", \"-\")\n",
    "layer = 1\n",
    "\n",
    "model = HookedTransformer.from_pretrained(model_name, device=device)\n",
    "\n",
    "# tokenizer = AutoTokenizer.from_pretrained(model_name)\n",
    "Token_amount = 20\n",
    "\n",
    "# Load the training set from pile-10k\n",
    "d = load_dataset(\"NeelNanda/pile-10k\", split=\"train\").map(\n",
    "    lambda x: model.tokenizer(x['text']),\n",
    "    batched=True,\n",
    ").filter(\n",
    "    lambda x: len(x['input_ids']) > Token_amount\n",
    ").map(\n",
    "    lambda x: {'input_ids': x['input_ids'][:Token_amount]}\n",
    ")\n",
    "neurons = model.W_in.shape[-1]\n",
    "datapoints = d.num_rows\n",
    "batch_size = 64\n",
    "\n",
    "neuron_activations = th.zeros((datapoints*Token_amount, neurons))\n",
    "\n",
    "try:\n",
    "    neuron_activations = th.load(f\"Data/{model_save_name}_activations_layer_{layer}.pt\")\n",
    "    print(\"Loaded activations from file\")\n",
    "except:\n",
    "    with th.no_grad(), d.formatted_as(\"pt\"):\n",
    "        dl = DataLoader(d[\"input_ids\"], batch_size=batch_size)\n",
    "        for i, batch in enumerate(tqdm(dl)):\n",
    "            _, cache = model.run_with_cache(batch.to(device))\n",
    "            neuron_activations[i*batch_size*Token_amount:(i+1)*batch_size*Token_amount,:] = rearrange(cache[f\"blocks.{layer}.mlp.hook_post\"], \"b s n -> (b s) n\" )\n",
    "    th.save(neuron_activations, f\"Data/{model_save_name}_activations_layer_{layer}.pt\")"
   ]
  },
  {
   "cell_type": "code",
   "execution_count": 2,
   "metadata": {},
   "outputs": [],
   "source": [
    "import numpy as np\n",
    "import matplotlib.pyplot as plt\n",
    "from sklearn.cluster import DBSCAN\n",
    "# import hdbscan\n",
    "\n",
    "# 1. Given one neuron, find the other neurons that have the most combined activations above a threshold.\n",
    "def find_most_activated_neurons(neuron, activations, threshold):\n",
    "    # Filter neurons by activations above the threshold\n",
    "    activated_neurons = np.where(activations > threshold)\n",
    "\n",
    "    # Compute activation sums for each neuron\n",
    "    activation_sums = np.sum(activations[activated_neurons], axis=0)\n",
    "\n",
    "    # Sort neurons by activation sums and return the indices\n",
    "    sorted_neurons = np.argsort(activation_sums)[::-1]\n",
    "    \n",
    "    return sorted_neurons\n",
    "\n",
    "# 2. Plot that combination w/ Dbscan labels. maybe HDBSCAN, w/ index & colors\n",
    "def plot_neurons_with_labels(neurons, activations, labels, method='dbscan'):\n",
    "    if method == 'dbscan':\n",
    "        clustering = DBSCAN().fit(activations)\n",
    "    # elif method == 'hdbscan':\n",
    "    #     clustering = hdbscan.HDBSCAN().fit(activations)\n",
    "    else:\n",
    "        raise ValueError(\"Invalid method. Use 'dbscan' or 'hdbscan'\")\n",
    "\n",
    "    unique_labels = set(labels)\n",
    "    colors = plt.cm.Spectral(np.linspace(0, 1, len(unique_labels)))\n",
    "\n",
    "    for label, color in zip(unique_labels, colors):\n",
    "        label_indices = np.where(labels == label)\n",
    "        plt.scatter(neurons[label_indices, 0], neurons[label_indices, 1],\n",
    "                            c=color, label=label)\n",
    "\n",
    "    plt.legend()\n",
    "    plt.show()"
   ]
  },
  {
   "cell_type": "code",
   "execution_count": 3,
   "metadata": {},
   "outputs": [],
   "source": [
    "# neuron_activations = neuron_activations.cpu().numpy()\n",
    "threshold = 0.4\n",
    "neuron = 0\n",
    "k = 10\n",
    "\n",
    "mask1 = neuron_activations[:, neuron].where(neuron_activations[:, neuron] > threshold, th.tensor(0.0)) != 0\n",
    "m2 = neuron_activations[mask1, :].where(neuron_activations[mask1, :] > threshold, th.tensor(0.0)) != 0\n",
    "v, i = m2.count_nonzero(dim=0).topk(k, largest=True)\n",
    "\n",
    "\n",
    "\n",
    "# mask2 = neuron_activations.where(neuron_activations[mask1, :] > threshold, th.tensor(0.0)) != 0\n",
    "# final_mask = combined_masks_of_diff_shape(mask1, mask2)\n",
    "\n",
    "# def combined_masks_of_diff_shape(mask1, mask2):\n",
    "#     i = 0\n",
    "#     for x in range(len(mask1)):\n",
    "#         if mask1[x]:\n",
    "#             mask1[x] = th.tensor(mask2[i])\n",
    "#             i += 1\n",
    "#     return mask1\n",
    "# activated_neuron = th.where(neuron_activations[:, neuron] > threshold)[0]\n",
    "# other_activations = th.where(neuron_activations[activated_neuron] > threshold)\n",
    "\n",
    "# # # Compute activation sums for each neuron\n",
    "# activation_sums = th.sum(neuron_activations[other_activations], axis=0)\n",
    "\n",
    "# # # Sort neurons by activation sums and return the indices\n",
    "# sorted_neurons = th.argsort(activation_sums)[::-1]\n",
    "\n",
    "# sorted_neurons"
   ]
  },
  {
   "cell_type": "code",
   "execution_count": 4,
   "metadata": {},
   "outputs": [
    {
     "name": "stderr",
     "output_type": "stream",
     "text": [
      "/tmp/ipykernel_2932578/4289903435.py:20: UserWarning: *c* argument looks like a single numeric RGB or RGBA sequence, which should be avoided as value-mapping will have precedence in case its length matches with *x* & *y*.  Please use the *color* keyword-argument or provide a 2D array with a single row if you intend to specify the same RGB or RGBA value for all points.\n",
      "  plt.scatter(activations[label_indices, 0], activations[label_indices, 1],\n"
     ]
    },
    {
     "data": {
      "image/png": "[encoded data removed]",
      "text/plain": [
       "<Figure size 640x480 with 1 Axes>"
      ]
     },
     "metadata": {},
     "output_type": "display_data"
    }
   ],
   "source": [
    "# Plot neurons w/ dbscan labels\n",
    "# 2. Plot that combination w/ Dbscan labels. maybe HDBSCAN, w/ index & colors\n",
    "# def plot_neurons_with_labels(neurons, activations, labels, method='dbscan'):\n",
    "neuron2 = i[1]\n",
    "\n",
    "eps = 0.1\n",
    "min_samples = 4\n",
    "mask_i = neuron_activations[:, neuron2].where(neuron_activations[:, neuron2] > threshold, th.tensor(0.0)) != 0\n",
    "combined_mask = mask1 & mask_i\n",
    "activations1 = neuron_activations[combined_mask, neuron]\n",
    "activations2 = neuron_activations[combined_mask, neuron2]\n",
    "activations = np.stack((activations1, activations2), axis=1)\n",
    "clustering = DBSCAN(eps=eps, min_samples=min_samples).fit(activations)\n",
    "labels =clustering.labels_\n",
    "unique_labels = set(labels)\n",
    "colors = plt.cm.Spectral(np.linspace(0, 1, len(unique_labels)))\n",
    "\n",
    "for label, color in zip(unique_labels, colors):\n",
    "    label_indices = np.where(labels == label)\n",
    "    plt.scatter(activations[label_indices, 0], activations[label_indices, 1],\n",
    "                        c=color, label=label)\n",
    "plt.legend()\n",
    "plt.show()"
   ]
  },
  {
   "cell_type": "code",
   "execution_count": null,
   "metadata": {},
   "outputs": [],
   "source": []
  },
  {
   "cell_type": "code",
   "execution_count": 9,
   "metadata": {},
   "outputs": [
    {
     "data": {
      "text/plain": [
       "array([-1, -1, -1, -1, -1, -1, -1, -1, -1, -1, -1, -1, -1, -1, -1, -1])"
      ]
     },
     "execution_count": 9,
     "metadata": {},
     "output_type": "execute_result"
    }
   ],
   "source": [
    "# 2.B Get labels for all neurons within a grid range. Say we just do 4x4 grid\n",
    "grid = 4\n",
    "max_x = activations1.max()\n",
    "max_y = activations2.max()\n",
    "min_x = activations1.min()\n",
    "min_y = activations2.min()\n"
   ]
  },
  {
   "cell_type": "code",
   "execution_count": 5,
   "metadata": {},
   "outputs": [
    {
     "data": {
      "text/plain": [
       "(344, 2)"
      ]
     },
     "execution_count": 5,
     "metadata": {},
     "output_type": "execute_result"
    }
   ],
   "source": [
    "# Look at dataset examples from each cluster\n",
    "activations.shape"
   ]
  },
  {
   "cell_type": "code",
   "execution_count": null,
   "metadata": {},
   "outputs": [],
   "source": []
  },
  {
   "cell_type": "code",
   "execution_count": 26,
   "metadata": {},
   "outputs": [],
   "source": [
    "simplifier = NeuronTextSimplifier(model, layer, neuron)"
   ]
  },
  {
   "cell_type": "code",
   "execution_count": 41,
   "metadata": {},
   "outputs": [
    {
     "name": "stderr",
     "output_type": "stream",
     "text": [
      "/tmp/ipykernel_2932578/601488729.py:3: UserWarning: __floordiv__ is deprecated, and its behavior will change in a future version of pytorch. It currently rounds toward 0 (like the 'trunc' function NOT 'floor'). This results in incorrect rounding for negative values. To keep the current behavior, use torch.div(a, b, rounding_mode='trunc'), or for actual floor division, use torch.div(a, b, rounding_mode='floor').\n",
      "  label_d_points = (d_and_seq_points // Token_amount)[rel_ind]\n"
     ]
    }
   ],
   "source": [
    "d_and_seq_points = combined_mask.nonzero()[...,0][label_indices]\n",
    "value, rel_ind =  neuron_activations[d_and_seq_points, neuron].sort()\n",
    "label_d_points = (d_and_seq_points // Token_amount)[rel_ind]\n",
    "token_sequence_pos = (d_and_seq_points % Token_amount)[rel_ind]"
   ]
  },
  {
   "cell_type": "code",
   "execution_count": 42,
   "metadata": {},
   "outputs": [
    {
     "data": {
      "text/plain": [
       "tensor([39, 40, 27, 38, 41, 26, 10, 21,  5,  2, 47, 16, 46, 11, 29, 30, 24, 36,\n",
       "        23,  7, 12, 48, 42, 22, 28, 33,  0, 43, 20,  9, 31, 45, 14, 25, 34, 32,\n",
       "        44, 35,  3,  4,  1, 17,  8, 18, 15, 13, 19,  6, 37])"
      ]
     },
     "execution_count": 42,
     "metadata": {},
     "output_type": "execute_result"
    }
   ],
   "source": [
    "ind"
   ]
  },
  {
   "cell_type": "code",
   "execution_count": 43,
   "metadata": {},
   "outputs": [
    {
     "data": {
      "text/html": [
       "<div id=\"circuits-vis-9e7a984f-2de9\" style=\"margin: 15px 0;\"/>\n",
       "    <script crossorigin type=\"module\">\n",
       "    import { render, TextNeuronActivations } from \"https://unpkg.com/circuitsvis@1.39.1/dist/cdn/esm.js\";\n",
       "    render(\n",
       "      \"circuits-vis-9e7a984f-2de9\",\n",
       "      TextNeuronActivations,\n",
       "      {\"tokens\": [\"Rom\", \"antic\", \" hone\", \"\\n\", \"Rom\", \"antic\", \" hone\", \"\\n\", \"Lib\", \" Dem\", \" civil\", \" liberties\", \" minister\", \"\\n\", \"Lib\", \" Dem\", \" civil\", \" liberties\", \" minister\", \"\\n\", \"UN\", \" secretary\", \"\\n\", \"UN\", \" secretary\", \"\\n\", \"PAR\", \"IS\", \"--\", \"French\", \" anti\", \"\\n\", \"PAR\", \"IS\", \"--\", \"French\", \" anti\", \"\\n\", \"The\", \" Benjamin\", \" Garcia\", \" Sax\", \"e\", \" project\", \"\\n\", \"The\", \" Benjamin\", \" Garcia\", \" Sax\", \"e\", \" project\", \"\\n\", \"Old\", \"er\", \" driver\", \"\\n\", \"Old\", \"er\", \" driver\", \"\\n\", \"G\", \"odd\", \"ess\", \" worship\", \"\\n\", \"G\", \"odd\", \"ess\", \" worship\", \"\\n\", \"Cl\", \"ost\", \"rid\", \"ium\", \" diff\", \"\\n\", \"Cl\", \"ost\", \"rid\", \"ium\", \" diff\", \"\\n\", \"La\", \" oblig\", \"\\n\", \"La\", \" oblig\", \"\\n\", \"Building\", \" upon\", \" the\", \" pioneering\", \"\\n\", \"Building\", \" upon\", \" the\", \" pioneering\", \"\\n\", \"Br\", \"ace\", \" yourselves\", \"\\n\", \"Br\", \"ace\", \" yourselves\", \"\\n\", \"An\", \" acquaintance\", \"\\n\", \"An\", \" acquaintance\", \"\\n\", \"Israel\", \"i\", \" Prime\", \" Minister\", \"\\n\", \"Israel\", \"i\", \" Prime\", \" Minister\", \"\\n\", \"Be\", \"ijing\", \" -\", \" Art\", \"price\", \"'s\", \" Chairman\", \"\\n\", \"Be\", \"ijing\", \" -\", \" Art\", \"price\", \"'s\", \" Chairman\", \"\\n\", \"IN\", \" 1962\", \"\\n\", \"IN\", \" 1962\", \"\\n\", \"\\u2014\", \"\\n\", \"\\u2014\", \"\\n\", \"\\u2014\", \"\\n\", \"\\u2014\", \"\\n\", \"As\", \" surely\", \" as\", \" the\", \" toll\", \"\\n\", \"As\", \" surely\", \" as\", \" the\", \" toll\", \"\\n\", \"Their\", \"\\n\", \"Their\", \"\\n\", \"When\", \" Unix\", \" was\", \" being\", \" developed\", \" in\", \" 1969\", \"\\n\", \"When\", \" Unix\", \" was\", \" being\", \" developed\", \" in\", \" 1969\", \"\\n\", \"O\", \"ften\", \" tout\", \"ed\", \" as\", \" the\", \" holy\", \"-\", \"\\n\", \"O\", \"ften\", \" tout\", \"ed\", \" as\", \" the\", \" holy\", \"-\", \"\\n\", \"While\", \" the\", \" left\", \" la\", \"uds\", \" the\", \" achievements\", \" of\", \" the\", \" eight\", \" years\", \" of\", \" Obama\", \"\\n\", \"While\", \" the\", \" left\", \" la\", \"uds\", \" the\", \" achievements\", \" of\", \" the\", \" eight\", \" years\", \" of\", \" Obama\", \"\\n\", \"H\", \"ier\", \"arch\", \"ical\", \"\\n\", \"H\", \"ier\", \"arch\", \"ical\", \"\\n\", \"American\", \" serial\", \" killer\", \" Joel\", \" R\", \"if\", \"kin\", \" killed\", \" 17\", \" women\", \" in\", \" the\", \" 1990\", \"\\n\", \"American\", \" serial\", \" killer\", \" Joel\", \" R\", \"if\", \"kin\", \" killed\", \" 17\", \" women\", \" in\", \" the\", \" 1990\", \"\\n\", \"The\", \" twisted\", \"\\n\", \"The\", \" twisted\", \"\\n\", \"Jesus\", \" came\", \" not\", \" to\", \" be\", \" served\", \"\\n\", \"Jesus\", \" came\", \" not\", \" to\", \" be\", \" served\", \"\\n\", \"Got\", \" this\", \" cute\", \" little\", \" sewing\", \" chair\", \" from\", \" Sara\", \" and\", \" St\", \"acy\", \" at\", \" Sugar\", \"SC\", \"OUT\", \"\\u2013\", \"they\", \" have\", \" \\u201c\", \"super\", \"\\n\", \"Got\", \" this\", \" cute\", \" little\", \" sewing\", \" chair\", \" from\", \" Sara\", \" and\", \" St\", \"acy\", \" at\", \" Sugar\", \"SC\", \"OUT\", \"\\u2013\", \"they\", \" have\", \" \\u201c\", \"super\", \"\\n\", \"As\", \" the\", \" Third\", \" Christian\", \" Millenn\", \"\\n\", \"As\", \" the\", \" Third\", \" Christian\", \" Millenn\", \"\\n\", \"General\", \" condition\", \" biomarkers\", \" in\", \" relation\", \" to\", \" contamin\", \"ant\", \" burden\", \" in\", \" European\", \" fl\", \"ounder\", \"\\n\", \"General\", \" condition\", \" biomarkers\", \" in\", \" relation\", \" to\", \" contamin\", \"ant\", \" burden\", \" in\", \" European\", \" fl\", \"ounder\", \"\\n\", \"Al\", \"fred\", \"o\", \" Rom\", \"ano\", \" is\", \" the\", \" first\", \" to\", \" admit\", \" a\", \" soul\", \"-\", \"cr\", \"ushing\", \" process\", \"\\n\", \"Al\", \"fred\", \"o\", \" Rom\", \"ano\", \" is\", \" the\", \" first\", \" to\", \" admit\", \" a\", \" soul\", \"-\", \"cr\", \"ushing\", \" process\", \"\\n\", \"Born\", \"\\u2013\", \"\\n\", \"Born\", \"\\u2013\", \"\\n\", \"Members\", \" of\", \" the\", \" organ\", \"\\n\", \"Members\", \" of\", \" the\", \" organ\", \"\\n\", \"Nor\", \"wegian\", \" Ent\", \"\\n\", \"Nor\", \"wegian\", \" Ent\", \"\\n\", \"Q\", \":\", \" What\", \" Op\", \"ry\", \" member\", \" was\", \" recognized\", \" for\", \" his\", \" humanitarian\", \" efforts\", \" with\", \" the\", \" 1993\", \"\\n\", \"Q\", \":\", \" What\", \" Op\", \"ry\", \" member\", \" was\", \" recognized\", \" for\", \" his\", \" humanitarian\", \" efforts\", \" with\", \" the\", \" 1993\", \"\\n\", \"Jesus\", \" came\", \" not\", \" to\", \" be\", \" served\", \",\", \" but\", \" to\", \" serve\", \"\\n\", \"Jesus\", \" came\", \" not\", \" to\", \" be\", \" served\", \",\", \" but\", \" to\", \" serve\", \"\\n\", \"Fire\", \"-\", \"Br\", \"ig\", \"ade\", \":\", \" The\", \" Battle\", \" for\", \" K\", \"iev\", \" -\", \" 1943\", \"\\n\", \"Fire\", \"-\", \"Br\", \"ig\", \"ade\", \":\", \" The\", \" Battle\", \" for\", \" K\", \"iev\", \" -\", \" 1943\", \"\\n\", \"I\", \" re\", \"-\", \"read\", \" The\", \" Gods\", \" The\", \"ms\", \"elves\", \" because\", \" it\", \" was\", \" 1972\", \"\\n\", \"I\", \" re\", \"-\", \"read\", \" The\", \" Gods\", \" The\", \"ms\", \"elves\", \" because\", \" it\", \" was\", \" 1972\", \"\\n\", \"Il\", \" cond\", \"\\n\", \"Il\", \" cond\", \"\\n\", \"When\", \" Land\", \"auer\", \" argued\", \" in\", \" 1961\", \"\\n\", \"When\", \" Land\", \"auer\", \" argued\", \" in\", \" 1961\", \"\\n\", \"The\", \" firm\", \" was\", \" founded\", \" in\", \" 1997\", \"\\n\", \"The\", \" firm\", \" was\", \" founded\", \" in\", \" 1997\", \"\\n\", \"Bern\", \"ard\", \" Ri\", \"pert\", \" est\", \" transf\", \"\\n\", \"Bern\", \"ard\", \" Ri\", \"pert\", \" est\", \" transf\", \"\\n\", \"1956\", \"\\n\", \"1956\", \"\\n\", \"The\", \" Al\", \"amed\", \"a\", \" County\", \" Historical\", \" Society\", \" was\", \" founded\", \" in\", \" 1965\", \"\\n\", \"The\", \" Al\", \"amed\", \"a\", \" County\", \" Historical\", \" Society\", \" was\", \" founded\", \" in\", \" 1965\", \"\\n\", \"Nor\", \"\\n\", \"Nor\", \"\\n\", \"Nor\", \"\\n\", \"Nor\", \"\\n\", \"Nor\", \"\\n\", \"Nor\", \"\\n\", \"E\", \"sta\", \" ma\", \"\\u00f1\", \"ana\", \",\", \" el\", \" aut\", \"ob\", \"\\u00fa\", \"s\", \" transf\", \"\\n\", \"E\", \"sta\", \" ma\", \"\\u00f1\", \"ana\", \",\", \" el\", \" aut\", \"ob\", \"\\u00fa\", \"s\", \" transf\", \"\\n\", \"Est\", \"abl\", \"ished\", \" in\", \" 1992\", \"\\n\", \"Est\", \"abl\", \"ished\", \" in\", \" 1992\", \"\\n\", \"The\", \" Flying\", \" Sam\", \"ar\", \"it\", \"ans\", \" had\", \" their\", \" beginnings\", \" in\", \" 1961\", \"\\n\", \"The\", \" Flying\", \" Sam\", \"ar\", \"it\", \"ans\", \" had\", \" their\", \" beginnings\", \" in\", \" 1961\", \"\\n\"], \"activations\": [[[0.5079255104064941]], [[0.19776470959186554]], [[0.43729931116104126]], [[0.0]], [[0.6143024563789368]], [[2.0623440742492676]], [[2.414588212966919]], [[0.0]], [[-0.16723014414310455]], [[-0.11079978197813034]], [[-0.16375723481178284]], [[-0.16751570999622345]], [[0.44427353143692017]], [[0.0]], [[1.3272393941879272]], [[1.6124041080474854]], [[1.9936879873275757]], [[1.5766748189926147]], [[2.2455990314483643]], [[0.0]], [[-0.08090411126613617]], [[0.44753342866897583]], [[0.0]], [[1.4400508403778076]], [[2.865461587905884]], [[0.0]], [[-0.036984510719776154]], [[-0.10320921242237091]], [[0.053129393607378006]], [[-0.15911222994327545]], [[0.4488227367401123]], [[0.0]], [[0.6624844074249268]], [[1.799574375152588]], [[2.452441692352295]], [[0.768932580947876]], [[2.8894474506378174]], [[0.0]], [[-0.15964969992637634]], [[-0.16147540509700775]], [[-0.03428497165441513]], [[-0.029219219461083412]], [[0.5199085474014282]], [[0.5067459940910339]], [[0.0]], [[0.3925740420818329]], [[0.4043593108654022]], [[0.6820651888847351]], [[1.1164251565933228]], [[-0.16302932798862457]], [[2.713313341140747]], [[0.0]], [[-0.05659477785229683]], [[-0.09854946285486221]], [[0.5167974233627319]], [[0.0]], [[1.0660861730575562]], [[1.9440619945526123]], [[2.79258131980896]], [[0.0]], [[-0.043985411524772644]], [[-0.025558829307556152]], [[-0.16118887066841125]], [[0.6014572978019714]], [[0.0]], [[1.9308890104293823]], [[2.4042952060699463]], [[0.8765227198600769]], [[2.2176358699798584]], [[0.0]], [[-0.0716995969414711]], [[-0.12260887026786804]], [[-0.0870867595076561]], [[-0.16732457280158997]], [[0.6038289666175842]], [[0.0]], [[1.882585883140564]], [[0.8761752843856812]], [[0.29009148478507996]], [[1.6639087200164795]], [[2.1510732173919678]], [[0.0]], [[-0.16239918768405914]], [[0.6508829593658447]], [[0.0]], [[0.45158177614212036]], [[2.0570337772369385]], [[0.0]], [[-0.10742133855819702]], [[0.005753203295171261]], [[-0.16358664631843567]], [[0.6538878083229065]], [[0.0]], [[1.648967981338501]], [[2.461643934249878]], [[3.0908596515655518]], [[2.2353274822235107]], [[0.0]], [[-0.0823969841003418]], [[-0.1664097160100937]], [[0.7096906900405884]], [[0.0]], [[1.0454014539718628]], [[-0.13950000703334808]], [[2.0122153759002686]], [[0.0]], [[-0.16915644705295563]], [[0.7693443894386292]], [[0.0]], [[1.945850133895874]], [[1.9366915225982666]], [[0.0]], [[-0.1243591383099556]], [[-0.12067544460296631]], [[0.5889965295791626]], [[0.7825410962104797]], [[0.0]], [[2.0582072734832764]], [[0.191734179854393]], [[1.265555739402771]], [[1.9343410730361938]], [[0.0]], [[0.5493857860565186]], [[-0.16646483540534973]], [[0.046876635402441025]], [[0.028999676927924156]], [[-0.08153069019317627]], [[-0.15886442363262177]], [[0.7827064990997314]], [[0.0]], [[0.5179555416107178]], [[2.2964460849761963]], [[2.7954461574554443]], [[1.4246082305908203]], [[-0.024587715044617653]], [[1.3461562395095825]], [[2.534795045852661]], [[0.0]], [[-0.16976551711559296]], [[0.7886444330215454]], [[0.0]], [[0.7667120695114136]], [[1.383175015449524]], [[0.0]], [[0.8233174085617065]], [[0.0]], [[1.8150817155838013]], [[0.0]], [[0.8233174085617065]], [[0.0]], [[1.8150817155838013]], [[0.0]], [[-0.13879288733005524]], [[-0.13049322366714478]], [[-0.11076600849628448]], [[-0.16936366260051727]], [[0.8396065831184387]], [[0.0]], [[0.27381834387779236]], [[0.7489339709281921]], [[0.9913972020149231]], [[2.7977981567382812]], [[1.4811631441116333]], [[0.0]], [[0.8441550135612488]], [[0.0]], [[1.3978466987609863]], [[0.0]], [[-0.16925105452537537]], [[-0.13450421392917633]], [[-0.004440251272171736]], [[-0.16895635426044464]], [[-0.15206171572208405]], [[-0.09653022885322571]], [[0.8730912804603577]], [[0.0]], [[-0.04242999851703644]], [[0.67777419090271]], [[0.20771798491477966]], [[0.5295057892799377]], [[1.088691234588623]], [[1.881967544555664]], [[1.5638502836227417]], [[0.0]], [[-0.16097280383110046]], [[0.3479416072368622]], [[-0.13426148891448975]], [[-0.0898577943444252]], [[0.2768833637237549]], [[-0.1650499701499939]], [[0.21634934842586517]], [[0.9600245952606201]], [[0.0]], [[1.2090864181518555]], [[2.264167308807373]], [[3.2363061904907227]], [[1.8886215686798096]], [[1.53665292263031]], [[3.279444694519043]], [[1.3786672353744507]], [[0.9218495488166809]], [[0.0]], [[-0.00943964347243309]], [[-0.1367294192314148]], [[0.09135878086090088]], [[-0.16851741075515747]], [[-0.14162848889827728]], [[-0.15787458419799805]], [[0.19469168782234192]], [[-0.1676846295595169]], [[-0.1699683517217636]], [[-0.1238960325717926]], [[-0.16996929049491882]], [[-0.16258016228675842]], [[0.9601614475250244]], [[0.0]], [[-0.14388830959796906]], [[1.8874963521957397]], [[-0.11927363276481628]], [[-0.0036974395625293255]], [[0.35679763555526733]], [[2.04744029045105]], [[1.47835111618042]], [[0.4353439509868622]], [[1.388659119606018]], [[1.0398530960083008]], [[0.3311736285686493]], [[0.21474304795265198]], [[0.41571831703186035]], [[0.0]], [[-0.11622019857168198]], [[-0.11597203463315964]], [[-0.16428637504577637]], [[0.986396849155426]], [[0.0]], [[1.2831271886825562]], [[0.2688661813735962]], [[0.6181053519248962]], [[1.775105595588684]], [[0.0]], [[-0.12410573661327362]], [[-0.017767934128642082]], [[-0.147707000374794]], [[-0.11162394285202026]], [[-0.008082395419478416]], [[-0.0010642571141943336]], [[-0.009717460721731186]], [[-0.10985751450061798]], [[-0.16183707118034363]], [[-0.08867019414901733]], [[-0.1439952552318573]], [[-0.14426925778388977]], [[1.0023924112319946]], [[0.0]], [[1.980101227760315]], [[2.6721997261047363]], [[2.15291166305542]], [[2.4912185668945312]], [[0.9609113931655884]], [[1.8588008880615234]], [[0.6988253593444824]], [[3.0093178749084473]], [[1.9871797561645508]], [[1.7548999786376953]], [[1.516418218612671]], [[1.879919171333313]], [[1.3905467987060547]], [[0.0]], [[-0.15964962542057037]], [[1.0096243619918823]], [[0.0]], [[0.39257293939590454]], [[1.0940370559692383]], [[0.0]], [[-0.11977311968803406]], [[-0.1672229766845703]], [[0.1396726816892624]], [[0.012922028079628944]], [[0.05119166523218155]], [[1.011101245880127]], [[0.0]], [[1.9888391494750977]], [[2.643639326095581]], [[2.4291532039642334]], [[1.3392159938812256]], [[2.1175053119659424]], [[2.222128391265869]], [[0.0]], [[-0.00167885422706604]], [[-0.0027100550942122936]], [[-0.028388049453496933]], [[-0.05886683240532875]], [[-0.15430907905101776]], [[-0.11739502102136612]], [[-0.09510697424411774]], [[-0.11218275129795074]], [[-0.08190160244703293]], [[-0.09294655174016953]], [[-0.16883684694766998]], [[-0.10120400786399841]], [[-0.16893801093101501]], [[-0.09998415410518646]], [[-0.07659430801868439]], [[-0.1695871502161026]], [[-0.060032811015844345]], [[-0.16824199259281158]], [[-0.1695435792207718]], [[1.0250487327575684]], [[0.0]], [[0.8797420263290405]], [[2.496063709259033]], [[1.5670108795166016]], [[2.605687379837036]], [[2.3178884983062744]], [[1.7092570066452026]], [[1.375313639640808]], [[0.8191823363304138]], [[0.307182252407074]], [[-0.012637591920793056]], [[0.29449963569641113]], [[0.35988733172416687]], [[-0.1550188958644867]], [[0.09107878804206848]], [[0.7680802345275879]], [[0.6868345141410828]], [[1.0776034593582153]], [[1.0648232698440552]], [[1.6976823806762695]], [[0.44695189595222473]], [[0.0]], [[-0.13879288733005524]], [[-0.16692548990249634]], [[-0.16968806087970734]], [[-0.14957284927368164]], [[1.046823263168335]], [[0.0]], [[0.27381834387779236]], [[1.9960137605667114]], [[1.6436402797698975]], [[0.252016544342041]], [[2.396935224533081]], [[0.0]], [[-0.1438366323709488]], [[-0.16744887828826904]], [[-0.021956216543912888]], [[-0.01670169271528721]], [[-0.028152188286185265]], [[-0.15396970510482788]], [[-0.1688743233680725]], [[-0.04216470196843147]], [[-0.0036473674699664116]], [[-0.043710093945264816]], [[-0.06227611377835274]], [[-0.1567848175764084]], [[1.0952001810073853]], [[0.0]], [[0.9864263534545898]], [[1.3544261455535889]], [[0.19252993166446686]], [[0.7685208916664124]], [[0.17120647430419922]], [[0.9682835936546326]], [[0.8671282529830933]], [[-0.021411724388599396]], [[0.3321187496185303]], [[0.8783825039863586]], [[1.0294792652130127]], [[1.0063679218292236]], [[0.47736090421676636]], [[0.0]], [[-0.08079486340284348]], [[-0.13893048465251923]], [[-0.05335744842886925]], [[-0.028668329119682312]], [[-0.06958063691854477]], [[-0.09606200456619263]], [[-0.1625632494688034]], [[-0.1687459647655487]], [[-0.11171272397041321]], [[-0.14799806475639343]], [[-0.0840328261256218]], [[0.10423445701599121]], [[0.21460621058940887]], [[-0.15641088783740997]], [[0.33601731061935425]], [[1.0995911359786987]], [[0.0]], [[1.830723524093628]], [[0.5877559781074524]], [[-0.13101327419281006]], [[1.5842264890670776]], [[0.6203837394714355]], [[1.2257097959518433]], [[2.4500985145568848]], [[1.2948124408721924]], [[0.7191650867462158]], [[2.194096565246582]], [[2.189971685409546]], [[0.7856029272079468]], [[1.5358530282974243]], [[0.04828767478466034]], [[0.8286212682723999]], [[1.001414179801941]], [[0.0]], [[-0.07020975649356842]], [[1.1638731956481934]], [[0.0]], [[1.186333417892456]], [[0.404080867767334]], [[0.0]], [[-0.029916850849986076]], [[-0.11200029402971268]], [[-0.14973746240139008]], [[1.1728935241699219]], [[0.0]], [[2.2512381076812744]], [[1.137938141822815]], [[2.0812666416168213]], [[1.5127768516540527]], [[0.0]], [[1.8138898611068726]], [[0.007935615256428719]], [[1.2280704975128174]], [[0.0]], [[0.4277026951313019]], [[0.3612249791622162]], [[1.1774746179580688]], [[0.0]], [[-0.016109004616737366]], [[-0.13427017629146576]], [[-0.004289815668016672]], [[-0.161378413438797]], [[-0.165612131357193]], [[-0.08595050871372223]], [[-0.1686992049217224]], [[-0.16887909173965454]], [[-0.001664260751567781]], [[-0.14515668153762817]], [[-0.06770496815443039]], [[-0.16949443519115448]], [[-0.1362549364566803]], [[-0.16460302472114563]], [[1.2416913509368896]], [[0.0]], [[-0.10605793446302414]], [[0.9049067497253418]], [[0.27263346314430237]], [[-0.10603458434343338]], [[0.08718797564506531]], [[0.8067671656608582]], [[0.8609145283699036]], [[2.009016752243042]], [[1.1000038385391235]], [[1.582890510559082]], [[0.597572386264801]], [[0.8919428586959839]], [[0.8025626540184021]], [[1.1382662057876587]], [[1.5482206344604492]], [[0.0]], [[-0.11977311968803406]], [[-0.1672229915857315]], [[0.1396726816892624]], [[0.012922088615596294]], [[0.0511922724545002]], [[1.0111013650894165]], [[-0.15523235499858856]], [[0.10233860462903976]], [[0.030476156622171402]], [[1.263733983039856]], [[0.0]], [[1.9888391494750977]], [[2.643639326095581]], [[2.429154634475708]], [[1.3392189741134644]], [[2.1175034046173096]], [[2.222130537033081]], [[2.5228476524353027]], [[0.23899826407432556]], [[2.1305673122406006]], [[1.8476881980895996]], [[0.0]], [[-0.04452373832464218]], [[-0.09127327799797058]], [[-0.12632529437541962]], [[-0.032050758600234985]], [[-0.1652987152338028]], [[-0.1657780259847641]], [[-0.029987772926688194]], [[-0.13577614724636078]], [[-0.03962972015142441]], [[-0.1671249270439148]], [[-0.16980522871017456]], [[-0.08648686856031418]], [[1.317610502243042]], [[0.0]], [[1.802243709564209]], [[0.6572853922843933]], [[-0.052302103489637375]], [[0.04681091383099556]], [[-0.12532466650009155]], [[1.9142459630966187]], [[1.4343100786209106]], [[0.030385024845600128]], [[1.6915487051010132]], [[0.03852397948503494]], [[0.07650826871395111]], [[0.9696998596191406]], [[1.4801651239395142]], [[0.0]], [[-0.03297409787774086]], [[-0.14183661341667175]], [[0.1574895679950714]], [[-0.0886959359049797]], [[-0.1440851390361786]], [[0.25098657608032227]], [[0.14718112349510193]], [[-0.16995735466480255]], [[-0.16614171862602234]], [[-0.1699504256248474]], [[-0.16988150775432587]], [[-0.16151562333106995]], [[1.3492127656936646]], [[0.0]], [[0.5216342806816101]], [[2.294954538345337]], [[0.02844778634607792]], [[0.10011331737041473]], [[2.0493035316467285]], [[0.35645630955696106]], [[1.4637750387191772]], [[-0.07247599959373474]], [[0.2838837504386902]], [[1.699376106262207]], [[1.8311997652053833]], [[1.8215148448944092]], [[1.6888231039047241]], [[0.0]], [[0.16761553287506104]], [[1.3642284870147705]], [[0.0]], [[-0.020010489970445633]], [[0.760202944278717]], [[0.0]], [[-0.16925105452537537]], [[-0.13947689533233643]], [[-0.05177156254649162]], [[-0.12674202024936676]], [[-0.13151314854621887]], [[1.4677022695541382]], [[0.0]], [[-0.04242999851703644]], [[0.692074716091156]], [[0.03623427450656891]], [[1.9309331178665161]], [[2.0448813438415527]], [[1.3495121002197266]], [[0.0]], [[-0.15964969992637634]], [[0.07362321764230728]], [[-0.16752038896083832]], [[-0.163439080119133]], [[-0.16225679218769073]], [[1.5179513692855835]], [[0.0]], [[0.3925740420818329]], [[0.09160150587558746]], [[1.4456390142440796]], [[0.15563783049583435]], [[1.0856742858886719]], [[1.1651363372802734]], [[0.0]], [[-0.16985148191452026]], [[0.18092143535614014]], [[-0.16897574067115784]], [[-0.1657225489616394]], [[0.20820172131061554]], [[1.5548887252807617]], [[0.0]], [[1.0527913570404053]], [[2.2995033264160156]], [[1.7476216554641724]], [[1.0291059017181396]], [[1.9771571159362793]], [[2.420144557952881]], [[0.0]], [[1.5886876583099365]], [[0.0]], [[0.9667457342147827]], [[0.0]], [[-0.15964969992637634]], [[-0.1432153433561325]], [[-0.13971801102161407]], [[-0.043705180287361145]], [[-0.15878482162952423]], [[-0.16424505412578583]], [[-0.06469538062810898]], [[-0.14872455596923828]], [[0.02952510118484497]], [[-0.14282561838626862]], [[1.6158615350723267]], [[0.0]], [[0.3925740420818329]], [[0.7160559892654419]], [[0.11012615263462067]], [[-0.08662604540586472]], [[2.09187912940979]], [[1.682466983795166]], [[1.4299569129943848]], [[1.5321027040481567]], [[1.411266803741455]], [[1.1253528594970703]], [[1.3947334289550781]], [[0.0]], [[1.8138905763626099]], [[0.0]], [[0.42770224809646606]], [[0.0]], [[1.8138905763626099]], [[0.0]], [[0.42770224809646606]], [[0.0]], [[1.8138905763626099]], [[0.0]], [[0.42770224809646606]], [[0.0]], [[-0.0815209448337555]], [[-0.1121000424027443]], [[-0.16742242872714996]], [[-0.04563242197036743]], [[0.027079865336418152]], [[-0.1665530502796173]], [[-0.12822939455509186]], [[-0.12341384589672089]], [[-0.16799317300319672]], [[-0.044878602027893066]], [[-0.16956043243408203]], [[1.8267794847488403]], [[0.0]], [[1.2441582679748535]], [[1.3555866479873657]], [[0.7475380897521973]], [[-0.002415696857497096]], [[1.4520044326782227]], [[1.9705440998077393]], [[0.1806812286376953]], [[0.5254772901535034]], [[-0.03001917339861393]], [[0.9532287120819092]], [[0.7077761292457581]], [[0.8968302011489868]], [[0.0]], [[-0.10433140397071838]], [[-0.14008420705795288]], [[-0.14737540483474731]], [[-0.15454642474651337]], [[1.9170931577682495]], [[0.0]], [[-0.05030393227934837]], [[-0.16748042404651642]], [[1.1985464096069336]], [[1.3405064344406128]], [[1.1952487230300903]], [[0.0]], [[-0.15964969992637634]], [[-0.16962632536888123]], [[-0.1671302169561386]], [[-0.09359147399663925]], [[-0.11206168681383133]], [[-0.14850905537605286]], [[-0.12861540913581848]], [[-0.16949744522571564]], [[0.25866737961769104]], [[-0.03506544977426529]], [[1.9630980491638184]], [[0.0]], [[0.3925740420818329]], [[-0.15721333026885986]], [[1.079255223274231]], [[1.2632437944412231]], [[-0.01252499595284462]], [[1.2004833221435547]], [[2.550100326538086]], [[2.2271292209625244]], [[0.9516873955726624]], [[0.5415082573890686]], [[1.8210524320602417]], [[0.0]]], \"firstDimensionName\": \"Layer\", \"secondDimensionName\": \"Neuron\"}\n",
       "    )\n",
       "    </script>"
      ],
      "text/plain": [
       "<circuitsvis.utils.render.RenderedHTML at 0x7f81c6ff7310>"
      ]
     },
     "execution_count": 43,
     "metadata": {},
     "output_type": "execute_result"
    }
   ],
   "source": [
    "text_list = []\n",
    "full_text = []\n",
    "for md, s_ind in zip(label_d_points, token_sequence_pos):\n",
    "    md = int(md)\n",
    "    s_ind = int(s_ind)\n",
    "    full_tok = th.tensor(d[md][\"input_ids\"])\n",
    "    full_text.append(model.tokenizer.decode(full_tok))\n",
    "    \n",
    "    tok = d[md][\"input_ids\"][:s_ind+1]\n",
    "    text = model.tokenizer.decode(tok)\n",
    "    text_list.append(text)\n",
    "simplifier.text_to_visualize(text_list, neuron_list=[neuron, neuron2])"
   ]
  },
  {
   "cell_type": "code",
   "execution_count": 13,
   "metadata": {},
   "outputs": [
    {
     "ename": "KeyError",
     "evalue": "\"Column token_ids not in the dataset. Current columns in the dataset: ['text', 'meta', 'input_ids', 'attention_mask']\"",
     "output_type": "error",
     "traceback": [
      "\u001b[0;31m---------------------------------------------------------------------------\u001b[0m",
      "\u001b[0;31mKeyError\u001b[0m                                  Traceback (most recent call last)",
      "Cell \u001b[0;32mIn[13], line 1\u001b[0m\n\u001b[0;32m----> 1\u001b[0m d[\u001b[39m\"\u001b[39;49m\u001b[39mtoken_ids\u001b[39;49m\u001b[39m\"\u001b[39;49m][label_d_points]\n",
      "File \u001b[0;32m~/miniconda3/envs/logan/lib/python3.10/site-packages/datasets/arrow_dataset.py:2658\u001b[0m, in \u001b[0;36mDataset.__getitem__\u001b[0;34m(self, key)\u001b[0m\n\u001b[1;32m   2656\u001b[0m \u001b[39mdef\u001b[39;00m \u001b[39m__getitem__\u001b[39m(\u001b[39mself\u001b[39m, key):  \u001b[39m# noqa: F811\u001b[39;00m\n\u001b[1;32m   2657\u001b[0m \u001b[39m    \u001b[39m\u001b[39m\"\"\"Can be used to index columns (by string names) or rows (by integer index or iterable of indices or bools).\"\"\"\u001b[39;00m\n\u001b[0;32m-> 2658\u001b[0m     \u001b[39mreturn\u001b[39;00m \u001b[39mself\u001b[39;49m\u001b[39m.\u001b[39;49m_getitem(key)\n",
      "File \u001b[0;32m~/miniconda3/envs/logan/lib/python3.10/site-packages/datasets/arrow_dataset.py:2642\u001b[0m, in \u001b[0;36mDataset._getitem\u001b[0;34m(self, key, **kwargs)\u001b[0m\n\u001b[1;32m   2640\u001b[0m format_kwargs \u001b[39m=\u001b[39m format_kwargs \u001b[39mif\u001b[39;00m format_kwargs \u001b[39mis\u001b[39;00m \u001b[39mnot\u001b[39;00m \u001b[39mNone\u001b[39;00m \u001b[39melse\u001b[39;00m {}\n\u001b[1;32m   2641\u001b[0m formatter \u001b[39m=\u001b[39m get_formatter(format_type, features\u001b[39m=\u001b[39m\u001b[39mself\u001b[39m\u001b[39m.\u001b[39mfeatures, \u001b[39m*\u001b[39m\u001b[39m*\u001b[39mformat_kwargs)\n\u001b[0;32m-> 2642\u001b[0m pa_subtable \u001b[39m=\u001b[39m query_table(\u001b[39mself\u001b[39;49m\u001b[39m.\u001b[39;49m_data, key, indices\u001b[39m=\u001b[39;49m\u001b[39mself\u001b[39;49m\u001b[39m.\u001b[39;49m_indices \u001b[39mif\u001b[39;49;00m \u001b[39mself\u001b[39;49m\u001b[39m.\u001b[39;49m_indices \u001b[39mis\u001b[39;49;00m \u001b[39mnot\u001b[39;49;00m \u001b[39mNone\u001b[39;49;00m \u001b[39melse\u001b[39;49;00m \u001b[39mNone\u001b[39;49;00m)\n\u001b[1;32m   2643\u001b[0m formatted_output \u001b[39m=\u001b[39m format_table(\n\u001b[1;32m   2644\u001b[0m     pa_subtable, key, formatter\u001b[39m=\u001b[39mformatter, format_columns\u001b[39m=\u001b[39mformat_columns, output_all_columns\u001b[39m=\u001b[39moutput_all_columns\n\u001b[1;32m   2645\u001b[0m )\n\u001b[1;32m   2646\u001b[0m \u001b[39mreturn\u001b[39;00m formatted_output\n",
      "File \u001b[0;32m~/miniconda3/envs/logan/lib/python3.10/site-packages/datasets/formatting/formatting.py:585\u001b[0m, in \u001b[0;36mquery_table\u001b[0;34m(table, key, indices)\u001b[0m\n\u001b[1;32m    583\u001b[0m     _raise_bad_key_type(key)\n\u001b[1;32m    584\u001b[0m \u001b[39mif\u001b[39;00m \u001b[39misinstance\u001b[39m(key, \u001b[39mstr\u001b[39m):\n\u001b[0;32m--> 585\u001b[0m     _check_valid_column_key(key, table\u001b[39m.\u001b[39;49mcolumn_names)\n\u001b[1;32m    586\u001b[0m \u001b[39melse\u001b[39;00m:\n\u001b[1;32m    587\u001b[0m     size \u001b[39m=\u001b[39m indices\u001b[39m.\u001b[39mnum_rows \u001b[39mif\u001b[39;00m indices \u001b[39mis\u001b[39;00m \u001b[39mnot\u001b[39;00m \u001b[39mNone\u001b[39;00m \u001b[39melse\u001b[39;00m table\u001b[39m.\u001b[39mnum_rows\n",
      "File \u001b[0;32m~/miniconda3/envs/logan/lib/python3.10/site-packages/datasets/formatting/formatting.py:525\u001b[0m, in \u001b[0;36m_check_valid_column_key\u001b[0;34m(key, columns)\u001b[0m\n\u001b[1;32m    523\u001b[0m \u001b[39mdef\u001b[39;00m \u001b[39m_check_valid_column_key\u001b[39m(key: \u001b[39mstr\u001b[39m, columns: List[\u001b[39mstr\u001b[39m]) \u001b[39m-\u001b[39m\u001b[39m>\u001b[39m \u001b[39mNone\u001b[39;00m:\n\u001b[1;32m    524\u001b[0m     \u001b[39mif\u001b[39;00m key \u001b[39mnot\u001b[39;00m \u001b[39min\u001b[39;00m columns:\n\u001b[0;32m--> 525\u001b[0m         \u001b[39mraise\u001b[39;00m \u001b[39mKeyError\u001b[39;00m(\u001b[39mf\u001b[39m\u001b[39m\"\u001b[39m\u001b[39mColumn \u001b[39m\u001b[39m{\u001b[39;00mkey\u001b[39m}\u001b[39;00m\u001b[39m not in the dataset. Current columns in the dataset: \u001b[39m\u001b[39m{\u001b[39;00mcolumns\u001b[39m}\u001b[39;00m\u001b[39m\"\u001b[39m)\n",
      "\u001b[0;31mKeyError\u001b[0m: \"Column token_ids not in the dataset. Current columns in the dataset: ['text', 'meta', 'input_ids', 'attention_mask']\""
     ]
    }
   ],
   "source": [
    "d[\"token_ids\"][label_d_points]"
   ]
  },
  {
   "cell_type": "code",
   "execution_count": 8,
   "metadata": {},
   "outputs": [
    {
     "name": "stdout",
     "output_type": "stream",
     "text": [
      "nonzero count:  tensor([986, 344, 307, 295, 278, 275, 272, 269, 261, 261])\n",
      "neuron:         tensor([   0,  512, 1895, 1876, 1435, 2013,  962, 1020,  839,  721])\n"
     ]
    }
   ],
   "source": [
    "v, i = m2.count_nonzero(dim=0).sort(descending=True)\n",
    "print(\"nonzero count: \", v[:10])\n",
    "print(\"neuron:        \", i[:10])"
   ]
  },
  {
   "cell_type": "code",
   "execution_count": 38,
   "metadata": {},
   "outputs": [
    {
     "data": {
      "text/plain": [
       "torch.Size([3286, 2048])"
      ]
     },
     "execution_count": 38,
     "metadata": {},
     "output_type": "execute_result"
    }
   ],
   "source": [
    "m2.shape"
   ]
  },
  {
   "cell_type": "code",
   "execution_count": 31,
   "metadata": {},
   "outputs": [
    {
     "data": {
      "text/plain": [
       "tensor(4.7121)"
      ]
     },
     "execution_count": 31,
     "metadata": {},
     "output_type": "execute_result"
    }
   ],
   "source": [
    "neuron_activations[other_activations].min()"
   ]
  },
  {
   "cell_type": "code",
   "execution_count": 19,
   "metadata": {},
   "outputs": [
    {
     "data": {
      "text/plain": [
       "tensor([    93,    114,    206,  ..., 199056, 199130, 199155])"
      ]
     },
     "execution_count": 19,
     "metadata": {},
     "output_type": "execute_result"
    }
   ],
   "source": [
    "activated_neuron"
   ]
  },
  {
   "cell_type": "code",
   "execution_count": 2,
   "metadata": {},
   "outputs": [],
   "source": [
    "corr_coef = th.corrcoef(neuron_activations.T)"
   ]
  },
  {
   "cell_type": "code",
   "execution_count": 3,
   "metadata": {},
   "outputs": [
    {
     "name": "stdout",
     "output_type": "stream",
     "text": [
      "4194304\n"
     ]
    }
   ],
   "source": [
    "print(2048**2)"
   ]
  },
  {
   "cell_type": "code",
   "execution_count": 3,
   "metadata": {},
   "outputs": [],
   "source": [
    "neuron = 1306\n",
    "v, i = corr_coef[neuron, :].sort(descending=True)"
   ]
  },
  {
   "cell_type": "code",
   "execution_count": 5,
   "metadata": {},
   "outputs": [
    {
     "name": "stdout",
     "output_type": "stream",
     "text": [
      "tensor([1306,  924,  697,  503, 1668,  852,  859, 1991,  529, 1646])\n",
      "tensor([ 924, 1306,  697,  529,  503,  852, 1668,  859,  255, 1991])\n",
      "tensor([ 697,  924, 1306,  529,  255, 1523,  777,  859,  503, 1449])\n",
      "tensor([ 503,  859, 1306,  924, 1668,  852, 1991, 1646,  987,   35])\n",
      "tensor([1668, 1306,  503,  852, 1646,  859,  924, 1200, 1991, 1896])\n",
      "tensor([ 852, 1991, 1306,  503,  924, 1646, 1668,  859, 1896,  935])\n",
      "tensor([ 859,  503, 1306, 1668,  924, 1173, 2019,  852, 1177, 1991])\n",
      "tensor([1991,  852, 1306, 1668,  503,  924, 1646,  859,  935, 1896])\n",
      "tensor([ 529,  924,  697, 1306,  255, 1449, 1523,  859,  503, 1318])\n",
      "tensor([1646,  852, 1668,  935, 1991, 1896,  503, 1306,  859,  924])\n"
     ]
    }
   ],
   "source": [
    "for j in range(10):\n",
    "    neuron_ind = i[j].item()\n",
    "    print(corr_coef[neuron_ind, :].sort(descending=True).values[:10])"
   ]
  },
  {
   "cell_type": "code",
   "execution_count": 20,
   "metadata": {},
   "outputs": [
    {
     "name": "stdout",
     "output_type": "stream",
     "text": [
      "0.362860769033432\n",
      "0.3111647963523865\n",
      "0.18492959439754486\n",
      "0.2608509659767151\n",
      "0.25849056243896484\n",
      "0.27204516530036926\n",
      "0.26944267749786377\n",
      "0.2639138698577881\n",
      "0.18532848358154297\n",
      "0.25123652815818787\n",
      "0.15140153467655182\n",
      "0.24702365696430206\n",
      "0.21995921432971954\n",
      "0.22950829565525055\n",
      "0.22643877565860748\n",
      "0.26466572284698486\n",
      "0.22175940871238708\n",
      "0.21319076418876648\n",
      "0.21186938881874084\n",
      "0.23599626123905182\n",
      "0.19811241328716278\n",
      "0.24938030540943146\n",
      "0.2179834544658661\n",
      "0.21676169335842133\n",
      "0.21654261648654938\n",
      "0.1911548674106598\n",
      "0.12188144773244858\n",
      "0.1997930407524109\n",
      "0.18377770483493805\n",
      "0.2042209953069687\n",
      "0.2179475575685501\n",
      "0.2298586368560791\n",
      "0.22150929272174835\n",
      "0.18167485296726227\n",
      "0.19090989232063293\n",
      "0.2189105898141861\n",
      "0.2413829118013382\n",
      "0.10247824341058731\n",
      "0.1726890206336975\n",
      "0.19885478913784027\n",
      "0.19096173346042633\n",
      "0.14983387291431427\n",
      "0.1877770721912384\n",
      "0.19545458257198334\n",
      "0.19559188187122345\n",
      "0.1390303522348404\n",
      "0.141532301902771\n",
      "0.16652655601501465\n",
      "0.17162717878818512\n",
      "0.1628270149230957\n",
      "0.133186474442482\n",
      "0.14083434641361237\n",
      "0.13879892230033875\n",
      "0.15971976518630981\n",
      "0.16939251124858856\n",
      "0.0891336128115654\n",
      "0.1749112755060196\n",
      "0.11855419725179672\n",
      "0.13436384499073029\n",
      "0.14120173454284668\n",
      "0.16487203538417816\n",
      "0.11973196268081665\n",
      "0.13725633919239044\n",
      "0.1247553899884224\n",
      "0.17770253121852875\n",
      "0.12543798983097076\n",
      "0.12214358150959015\n",
      "0.1277286410331726\n",
      "0.11647680401802063\n",
      "0.10005957633256912\n",
      "0.1329912692308426\n",
      "0.15323086082935333\n",
      "0.10902078449726105\n",
      "0.15345056354999542\n",
      "0.09448865056037903\n",
      "0.14679671823978424\n",
      "0.07347165048122406\n",
      "0.1519394963979721\n",
      "0.14283597469329834\n",
      "0.10892923176288605\n",
      "0.1512349247932434\n",
      "0.1309097409248352\n",
      "0.13474483788013458\n",
      "0.13588955998420715\n",
      "0.12455234676599503\n",
      "0.15759390592575073\n",
      "0.14203959703445435\n",
      "0.11865077912807465\n",
      "0.05914505943655968\n",
      "0.07656692713499069\n",
      "0.13624104857444763\n",
      "0.13880641758441925\n",
      "0.1234709620475769\n",
      "0.09050971269607544\n",
      "0.05914505943655968\n",
      "0.11580345034599304\n",
      "0.09678134322166443\n",
      "0.08582590520381927\n",
      "0.1117514967918396\n",
      "0.11499491333961487\n"
     ]
    }
   ],
   "source": [
    "for j in range(t):\n",
    "    neuron_ind = i[j].item()\n",
    "    print(corr_coef[neuron_ind, i[:t]].min().item())"
   ]
  },
  {
   "cell_type": "code",
   "execution_count": null,
   "metadata": {},
   "outputs": [],
   "source": []
  }
 ],
 "metadata": {
  "kernelspec": {
   "display_name": "logan",
   "language": "python",
   "name": "python3"
  },
  "language_info": {
   "codemirror_mode": {
    "name": "ipython",
    "version": 3
   },
   "file_extension": ".py",
   "mimetype": "text/x-python",
   "name": "python",
   "nbconvert_exporter": "python",
   "pygments_lexer": "ipython3",
   "version": "3.10.9"
  },
  "orig_nbformat": 4
 },
 "nbformat": 4,
 "nbformat_minor": 2
}
