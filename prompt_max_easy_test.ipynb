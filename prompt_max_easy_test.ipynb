{
 "cells": [
  {
   "cell_type": "code",
   "execution_count": 1,
   "metadata": {},
   "outputs": [
    {
     "name": "stderr",
     "output_type": "stream",
     "text": [
      "c:\\Users\\logan\\miniconda3\\envs\\max\\lib\\site-packages\\tqdm\\auto.py:22: TqdmWarning: IProgress not found. Please update jupyter and ipywidgets. See https://ipywidgets.readthedocs.io/en/stable/user_install.html\n",
      "  from .autonotebook import tqdm as notebook_tqdm\n",
      "Using pad_token, but it is not set yet.\n"
     ]
    },
    {
     "name": "stdout",
     "output_type": "stream",
     "text": [
      "Loaded pretrained model EleutherAI/pythia-160m-deduped into HookedTransformer\n"
     ]
    }
   ],
   "source": [
    "from transformer_lens import HookedTransformer\n",
    "import torch as th\n",
    "from neuron_text_simplifier import NeuronTextSimplifier\n",
    "\n",
    "device = th.device(\"cuda\" if th.cuda.is_available() else \"cpu\")\n",
    "model = HookedTransformer.from_pretrained(\"EleutherAI/pythia-160m-deduped\", device=device)\n",
    "neuron = 0\n",
    "layer = 0\n",
    "simplifier = NeuronTextSimplifier(model, layer, neuron)"
   ]
  },
  {
   "cell_type": "code",
   "execution_count": 4,
   "metadata": {},
   "outputs": [
    {
     "name": "stdout",
     "output_type": "stream",
     "text": [
      "Starting diverse output 0\n",
      "New largest activation: 2.1048388481140137 | [' Brownian']\n",
      "New largest activation: 2.1420769691467285 | [' pend']\n",
      "Starting diverse output 1\n",
      "New largest activation: 0.4443323016166687 | [' phosphorylation']\n",
      "New largest activation: 0.6198891997337341 | [' chromatin']\n",
      "New largest activation: 0.8286555409431458 | [' deprivation']\n",
      "New largest activation: 1.2382906675338745 | [' course']\n",
      "Starting diverse output 2\n",
      "New largest activation: 0.45918571949005127 | [' lon']\n",
      "New largest activation: 1.8989596366882324 | ['substr']\n",
      "Starting diverse output 3\n",
      "New largest activation: 1.554858922958374 | ['\\x05']\n",
      "New largest activation: 1.7144789695739746 | ['turned']\n",
      "New largest activation: 1.7311758995056152 | [' glomerular']\n",
      "New largest activation: 1.8366503715515137 | ['usalem']\n",
      "Starting diverse output 4\n",
      "New largest activation: 1.156495213508606 | [' squ']\n",
      "New largest activation: 1.3057609796524048 | ['random']\n",
      "New largest activation: 1.5584025382995605 | [' congression']\n",
      "New largest activation: 1.7144789695739746 | ['turned']\n",
      "New largest activation: 1.8366503715515137 | ['usalem']\n",
      "Starting diverse output 5\n",
      "New largest activation: 0.05269770324230194 | [' cet']\n",
      "New largest activation: 1.3057609796524048 | ['random']\n",
      "New largest activation: 1.5584025382995605 | [' congression']\n",
      "New largest activation: 1.7144789695739746 | ['turned']\n",
      "New largest activation: 1.8989596366882324 | ['substr']\n",
      "Starting diverse output 6\n",
      "New largest activation: 0.29765671491622925 | ['Form']\n",
      "New largest activation: 1.3057609796524048 | ['random']\n",
      "New largest activation: 1.8989596366882324 | ['substr']\n",
      "Starting diverse output 7\n",
      "New largest activation: 1.8527681827545166 | ['oarthritis']\n",
      "New largest activation: 1.8989596366882324 | ['substr']\n",
      "Starting diverse output 8\n",
      "New largest activation: 0.5842904448509216 | [' undert']\n",
      "New largest activation: 1.3166226148605347 | ['BAS']\n",
      "New largest activation: 1.554858922958374 | ['\\x05']\n",
      "New largest activation: 1.8989596366882324 | ['substr']\n",
      "Starting diverse output 9\n",
      "New largest activation: 1.2082736492156982 | [' degener']\n",
      "New largest activation: 1.4850090742111206 | [' helical']\n",
      "New largest activation: 1.554858922958374 | ['\\x05']\n",
      "New largest activation: 1.8989596366882324 | ['substr']\n"
     ]
    },
    {
     "data": {
      "text/plain": [
       "[[' pend'],\n",
       " [' course'],\n",
       " ['substr'],\n",
       " ['usalem'],\n",
       " ['usalem'],\n",
       " ['substr'],\n",
       " ['substr'],\n",
       " ['substr'],\n",
       " ['substr'],\n",
       " ['substr']]"
      ]
     },
     "execution_count": 4,
     "metadata": {},
     "output_type": "execute_result"
    }
   ],
   "source": [
    "simplifier.prompt_optimization(seq_size=1, diversity_loss_scalar=20)"
   ]
  },
  {
   "cell_type": "code",
   "execution_count": 4,
   "metadata": {},
   "outputs": [
    {
     "ename": "NameError",
     "evalue": "name 'cos' is not defined",
     "output_type": "error",
     "traceback": [
      "\u001b[1;31m---------------------------------------------------------------------------\u001b[0m",
      "\u001b[1;31mNameError\u001b[0m                                 Traceback (most recent call last)",
      "Cell \u001b[1;32mIn[4], line 1\u001b[0m\n\u001b[1;32m----> 1\u001b[0m cos(tmp_embeds[\u001b[39m0\u001b[39m], diverse_outputs[\u001b[39m0\u001b[39m])\n",
      "\u001b[1;31mNameError\u001b[0m: name 'cos' is not defined"
     ]
    }
   ],
   "source": [
    "cos(tmp_embeds[0], diverse_outputs[0])"
   ]
  },
  {
   "cell_type": "code",
   "execution_count": 7,
   "metadata": {},
   "outputs": [],
   "source": [
    "cos0 = th.nn.CosineSimilarity(dim=0)\n",
    "cos2 = th.nn.CosineSimilarity(dim=2)"
   ]
  },
  {
   "cell_type": "code",
   "execution_count": 8,
   "metadata": {},
   "outputs": [
    {
     "ename": "NameError",
     "evalue": "name 'tmp_embeds' is not defined",
     "output_type": "error",
     "traceback": [
      "\u001b[1;31m---------------------------------------------------------------------------\u001b[0m",
      "\u001b[1;31mNameError\u001b[0m                                 Traceback (most recent call last)",
      "Cell \u001b[1;32mIn[8], line 1\u001b[0m\n\u001b[1;32m----> 1\u001b[0m cos0(tmp_embeds[\u001b[39m0\u001b[39m], diverse_outputs)\u001b[39m.\u001b[39mshape\n",
      "\u001b[1;31mNameError\u001b[0m: name 'tmp_embeds' is not defined"
     ]
    }
   ],
   "source": [
    "cos0(tmp_embeds[0], diverse_outputs).shape"
   ]
  },
  {
   "cell_type": "code",
   "execution_count": 14,
   "metadata": {},
   "outputs": [
    {
     "data": {
      "text/plain": [
       "torch.Size([10, 1, 768])"
      ]
     },
     "execution_count": 14,
     "metadata": {},
     "output_type": "execute_result"
    }
   ],
   "source": [
    "diverse_outputs.shape"
   ]
  },
  {
   "cell_type": "code",
   "execution_count": 21,
   "metadata": {},
   "outputs": [
    {
     "data": {
      "text/plain": [
       "torch.Size([1, 1, 768])"
      ]
     },
     "execution_count": 21,
     "metadata": {},
     "output_type": "execute_result"
    }
   ],
   "source": [
    "tmp_embeds.shape"
   ]
  },
  {
   "cell_type": "code",
   "execution_count": 9,
   "metadata": {},
   "outputs": [
    {
     "data": {
      "text/plain": [
       "tensor([[-1.0000, -1.0000],\n",
       "        [-1.0000, -1.0000]])"
      ]
     },
     "execution_count": 9,
     "metadata": {},
     "output_type": "execute_result"
    }
   ],
   "source": [
    "zero_one = th.zeros(2, 768)\n",
    "zero_one[1, :] += 1\n",
    "zero_one[0,:] -= 1\n",
    "one_zero = th.zeros(2, 768)\n",
    "one_zero[0, :] += 1\n",
    "one_zero[1,:] -= 1\n",
    "multiple_one_zero = th.stack((one_zero, one_zero), dim=0)\n",
    "cos2(zero_one,multiple_one_zero).shape"
   ]
  },
  {
   "cell_type": "code",
   "execution_count": 10,
   "metadata": {},
   "outputs": [
    {
     "data": {
      "text/plain": [
       "torch.Size([2, 768])"
      ]
     },
     "execution_count": 10,
     "metadata": {},
     "output_type": "execute_result"
    }
   ],
   "source": [
    "zero_one.shape"
   ]
  },
  {
   "cell_type": "code",
   "execution_count": 13,
   "metadata": {},
   "outputs": [
    {
     "data": {
      "text/plain": [
       "torch.Size([1, 2, 768])"
      ]
     },
     "execution_count": 13,
     "metadata": {},
     "output_type": "execute_result"
    }
   ],
   "source": [
    "multiple_one_zero[:1].shape"
   ]
  }
 ],
 "metadata": {
  "kernelspec": {
   "display_name": "max",
   "language": "python",
   "name": "python3"
  },
  "language_info": {
   "codemirror_mode": {
    "name": "ipython",
    "version": 3
   },
   "file_extension": ".py",
   "mimetype": "text/x-python",
   "name": "python",
   "nbconvert_exporter": "python",
   "pygments_lexer": "ipython3",
   "version": "3.10.9"
  },
  "orig_nbformat": 4,
  "vscode": {
   "interpreter": {
    "hash": "94f643171f386ff22d52257101c4dac4d2d863738d90bca2a200bbe9f551387a"
   }
  }
 },
 "nbformat": 4,
 "nbformat_minor": 2
}
